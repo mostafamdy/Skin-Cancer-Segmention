{
  "nbformat": 4,
  "nbformat_minor": 0,
  "metadata": {
    "colab": {
      "name": "ml+seg+resized380+2dense.ipynb",
      "provenance": [],
      "collapsed_sections": []
    },
    "kernelspec": {
      "name": "python3",
      "display_name": "Python 3"
    },
    "language_info": {
      "name": "python"
    },
    "accelerator": "GPU"
  },
  "cells": [
    {
      "cell_type": "code",
      "source": [
        "IMG_H = 128 \n",
        "IMG_W = 128\n",
        "seed = 101"
      ],
      "metadata": {
        "id": "hapacCFSccif"
      },
      "execution_count": null,
      "outputs": []
    },
    {
      "cell_type": "code",
      "execution_count": null,
      "metadata": {
        "id": "Mafn_4c2M-v-"
      },
      "outputs": [],
      "source": [
        "import os\n",
        "import cv2\n",
        "import shutil\n",
        "import numpy as np\n",
        "import pandas as pd\n",
        "import matplotlib.pyplot as plt\n",
        "import matplotlib.patches as patches\n",
        "# from keras.applications.vgg16 import VGG16\n",
        "from keras.applications.resnet import ResNet50\n",
        "from sklearn import preprocessing\n",
        "from sklearn.model_selection import train_test_split\n",
        "from sklearn.ensemble import RandomForestClassifier\n",
        "from sklearn import metrics"
      ]
    },
    {
      "cell_type": "markdown",
      "source": [
        "#download dataset"
      ],
      "metadata": {
        "id": "amWQT598IxOY"
      }
    },
    {
      "cell_type": "code",
      "source": [
        "import requests\n",
        "from zipfile import ZipFile\n",
        "\n",
        "def download_file(url):\n",
        "    local_filename = url.split('/')[-1]\n",
        "    # NOTE the stream=True parameter below\n",
        "    with requests.get(url, stream=True) as r:\n",
        "        r.raise_for_status()\n",
        "        with open(local_filename, 'wb') as f:\n",
        "            for chunk in r.iter_content(chunk_size=8192): \n",
        "                # If you have chunk encoded response uncomment if\n",
        "                # and set chunk_size parameter to None.\n",
        "                #if chunk: \n",
        "                f.write(chunk)\n",
        "    return local_filename\n",
        "file_name=download_file(\"https://md-datasets-cache-zipfiles-prod.s3.eu-west-1.amazonaws.com/zr7vgbcyr2-1.zip\")\n",
        "# opening the zip file in READ mode\n",
        "with ZipFile(file_name, 'r') as zip:\n",
        "\t# printing all the contents of the zip file\n",
        "\tzip.printdir()\n",
        "\n",
        "\t# extracting all the files\n",
        "\tprint('Extracting all the files now...')\n",
        "\tzip.extractall()\n",
        "\tprint('Done!')"
      ],
      "metadata": {
        "id": "pARBLEwbVWhs",
        "outputId": "f95bfe7d-f563-48e1-9f07-7b3e44200b13",
        "colab": {
          "base_uri": "https://localhost:8080/"
        }
      },
      "execution_count": null,
      "outputs": [
        {
          "output_type": "stream",
          "name": "stdout",
          "text": [
            "File Name                                             Modified             Size\n",
            "images/                                        2020-07-09 12:36:14            0\n",
            "images/imgs_part_2.zip                         2020-07-09 12:36:14   1126646990\n",
            "images/imgs_part_3.zip                         2020-07-09 12:58:40   1220565093\n",
            "images/imgs_part_1.zip                         2020-07-09 13:29:36   1245184680\n",
            "metadata.csv                                   2020-07-09 13:53:28       316209\n",
            "Extracting all the files now...\n",
            "Done!\n"
          ]
        }
      ]
    },
    {
      "cell_type": "code",
      "source": [
        "file_name=\"images/imgs_part_1.zip\"\n",
        "with ZipFile(file_name, 'r') as zip:\n",
        "\t# printing all the contents of the zip file\n",
        "\t# zip.printdir()\n",
        "\n",
        "\t# extracting all the files\n",
        "\tprint('Extracting all the files now...')\n",
        "\tzip.extractall()\n",
        "\tprint('Done!')\n",
        "file_name=\"images/imgs_part_2.zip\"\n",
        "with ZipFile(file_name, 'r') as zip:\n",
        "\t# printing all the contents of the zip file\n",
        "\t# zip.printdir()\n",
        "\n",
        "\t# extracting all the files\n",
        "\tprint('Extracting all the files now...')\n",
        "\tzip.extractall()\n",
        "\tprint('Done!')\n",
        "file_name=\"images/imgs_part_3.zip\"\n",
        "with ZipFile(file_name, 'r') as zip:\n",
        "\t# printing all the contents of the zip file\n",
        "\t# zip.printdir()\n",
        "\n",
        "\t# extracting all the files\n",
        "\tprint('Extracting all the files now...')\n",
        "\tzip.extractall()\n",
        "\tprint('Done!')"
      ],
      "metadata": {
        "id": "R8hyVxvwXfmN",
        "outputId": "03c674e9-c164-47a6-aa01-f709f4ae614d",
        "colab": {
          "base_uri": "https://localhost:8080/"
        }
      },
      "execution_count": null,
      "outputs": [
        {
          "output_type": "stream",
          "name": "stdout",
          "text": [
            "Extracting all the files now...\n",
            "Done!\n",
            "Extracting all the files now...\n",
            "Done!\n",
            "Extracting all the files now...\n",
            "Done!\n"
          ]
        }
      ]
    },
    {
      "cell_type": "markdown",
      "source": [
        "# move all images to one folder"
      ],
      "metadata": {
        "id": "hVXSpSjoI3vo"
      }
    },
    {
      "cell_type": "code",
      "source": [
        "import os\n",
        "import shutil\n",
        "os.mkdir(\"/content/all_images\")\n",
        "source_dir=\"/content/imgs_part_1\"\n",
        "file_names = os.listdir(source_dir)\n",
        "for file_name in file_names:\n",
        "    # print(os.path.join(source_dir, file_name))\n",
        "    shutil.move(os.path.join(source_dir, file_name), \"/content/all_images\")\n",
        "\n",
        "source_dir=\"/content/imgs_part_2\"\n",
        "file_names = os.listdir(source_dir)\n",
        "for file_name in file_names:\n",
        "    # print(os.path.join(source_dir, file_name))\n",
        "    shutil.move(os.path.join(source_dir, file_name), \"/content/all_images\")\n",
        "\n",
        "source_dir=\"/content/imgs_part_3\"\n",
        "file_names = os.listdir(source_dir)\n",
        "for file_name in file_names:\n",
        "    # print(os.path.join(source_dir, file_name))\n",
        "    shutil.move(os.path.join(source_dir, file_name), \"/content/all_images\")"
      ],
      "metadata": {
        "id": "eSKNxj5GYWkC"
      },
      "execution_count": null,
      "outputs": []
    },
    {
      "cell_type": "code",
      "execution_count": null,
      "metadata": {
        "id": "ZpZBj7slK2dE"
      },
      "outputs": [],
      "source": [
        "import pandas as pd\n",
        "import shutil\n",
        "from keras import Model\n",
        "import tensorflow as tf\n",
        "from keras.applications.resnet import ResNet50,preprocess_input\n",
        "from keras.layers import Conv2D,Flatten,Dense,MaxPool2D,BatchNormalization,GlobalAveragePooling2D\n",
        "from keras.preprocessing.image import ImageDataGenerator"
      ]
    },
    {
      "cell_type": "markdown",
      "source": [
        "# read meta"
      ],
      "metadata": {
        "id": "FtfYh-wlJHej"
      }
    },
    {
      "cell_type": "code",
      "source": [
        "metadata_path=\"/content/metadata.csv\"\n",
        "meta = pd.read_csv(metadata_path)\n",
        "images = meta['img_id']\n",
        "target = meta['diagnostic']\n",
        "meta=meta.drop(['patient_id','lesion_id'],axis=1)\n",
        "# print(target.unique())\n",
        "\n",
        "# move all images in single folder \n",
        "# create folder called images inside this folder create subfolders that names = target.unique()\n",
        "\n",
        "\n",
        "# for diag in target.unique():\n",
        "#   os.mkdir(\"/content/all_images/\"+diag)"
      ],
      "metadata": {
        "id": "fTS_QdvSL042"
      },
      "execution_count": null,
      "outputs": []
    },
    {
      "cell_type": "code",
      "source": [
        "meta['smoke']=meta['smoke'].map({True: 2, False: 1})\n",
        "meta['smoke']=meta['smoke'].fillna(0)\n",
        "\n",
        "meta['drink']=meta['drink'].map({True: 2, False: 1})\n",
        "meta['drink']=meta['drink'].fillna(0)\n",
        "\n",
        "meta['pesticide']=meta['pesticide'].map({True: 2, False: 1})\n",
        "meta['pesticide']=meta['pesticide'].fillna(0)\n",
        "\n",
        "# \n",
        "meta['gender']=meta['gender'].map({'FEMALE': 2, 'MALE': 1})\n",
        "meta['gender']=meta['gender'].fillna(0)\n",
        "\n",
        "\n",
        "\n",
        "meta['skin_cancer_history']=meta['skin_cancer_history'].map({True: 2, False: 1})\n",
        "meta['skin_cancer_history']=meta['skin_cancer_history'].fillna(0)\n",
        "\n",
        "meta['cancer_history']=meta['cancer_history'].map({True: 2, False: 1})\n",
        "meta['cancer_history']=meta['cancer_history'].fillna(0)\n",
        "\n",
        "meta['has_piped_water']=meta['has_piped_water'].map({True: 2, False: 1})\n",
        "meta['has_piped_water']=meta['has_piped_water'].fillna(0)\n",
        "\n",
        "meta['has_sewage_system']=meta['has_sewage_system'].map({True: 2, False: 1})\n",
        "meta['has_sewage_system']=meta['has_sewage_system'].fillna(0)\n",
        "# digits\n",
        "meta['fitspatrick']=meta['fitspatrick'].fillna(-1)\n",
        "meta['diameter_1']=meta['diameter_1'].fillna(-1)\n",
        "meta['diameter_2']=meta['diameter_2'].fillna(-1)\n",
        "\n",
        "meta['itch']=meta['itch'].map({'True': 2, 'False': 1,'UNK':0})\n",
        "meta['grew']=meta['grew'].map({'True': 2, 'False': 1,'UNK':0})\n",
        "meta['hurt']=meta['hurt'].map({'True': 2, 'False': 1,'UNK':0})\n",
        "meta['changed']=meta['changed'].map({'True': 2, 'False': 1,'UNK':0})\n",
        "meta['bleed']=meta['bleed'].map({'True': 2, 'False': 1,'UNK':0})\n",
        "meta['elevation']=meta['elevation'].map({'True': 2, 'False': 1,'UNK':0})\n",
        "\n",
        "meta['background_father']=meta['background_father'].fillna('None')\n",
        "meta['background_mother']=meta['background_mother'].fillna('None')"
      ],
      "metadata": {
        "id": "bwZny2nrStzy"
      },
      "execution_count": null,
      "outputs": []
    },
    {
      "cell_type": "code",
      "source": [
        "will_be_hot=[]\n",
        "for i in meta.columns:\n",
        "  if meta[i].dtypes=='O':\n",
        "    print(i)\n",
        "    will_be_hot.append(i)"
      ],
      "metadata": {
        "colab": {
          "base_uri": "https://localhost:8080/"
        },
        "id": "zQaxI23pTCb6",
        "outputId": "18b92b9c-a1bb-44fb-814a-615d32f06026"
      },
      "execution_count": null,
      "outputs": [
        {
          "output_type": "stream",
          "name": "stdout",
          "text": [
            "background_father\n",
            "background_mother\n",
            "region\n",
            "diagnostic\n",
            "img_id\n"
          ]
        }
      ]
    },
    {
      "cell_type": "code",
      "source": [
        "meta"
      ],
      "metadata": {
        "id": "Tnwqwn_Cqitq",
        "colab": {
          "base_uri": "https://localhost:8080/",
          "height": 488
        },
        "outputId": "a7d7c493-b5d3-4d68-a4ec-5cf7e612b3c4"
      },
      "execution_count": null,
      "outputs": [
        {
          "output_type": "execute_result",
          "data": {
            "text/plain": [
              "      smoke  drink background_father background_mother  age  pesticide  \\\n",
              "0       0.0    0.0              None              None    8        0.0   \n",
              "1       1.0    1.0         POMERANIA         POMERANIA   55        1.0   \n",
              "2       0.0    0.0              None              None   77        0.0   \n",
              "3       0.0    0.0              None              None   75        0.0   \n",
              "4       1.0    2.0         POMERANIA         POMERANIA   79        1.0   \n",
              "...     ...    ...               ...               ...  ...        ...   \n",
              "2293    0.0    0.0              None              None   73        0.0   \n",
              "2294    1.0    1.0         POMERANIA         POMERANIA   55        1.0   \n",
              "2295    0.0    0.0              None              None   74        0.0   \n",
              "2296    1.0    1.0         POMERANIA         POMERANIA   58        2.0   \n",
              "2297    0.0    0.0              None              None   41        0.0   \n",
              "\n",
              "      gender  skin_cancer_history  cancer_history  has_piped_water  ...  \\\n",
              "0        0.0                  0.0             0.0              0.0  ...   \n",
              "1        2.0                  2.0             2.0              2.0  ...   \n",
              "2        0.0                  0.0             0.0              0.0  ...   \n",
              "3        0.0                  0.0             0.0              0.0  ...   \n",
              "4        1.0                  2.0             1.0              1.0  ...   \n",
              "...      ...                  ...             ...              ...  ...   \n",
              "2293     0.0                  0.0             0.0              0.0  ...   \n",
              "2294     2.0                  2.0             2.0              2.0  ...   \n",
              "2295     0.0                  0.0             0.0              0.0  ...   \n",
              "2296     2.0                  2.0             2.0              1.0  ...   \n",
              "2297     0.0                  0.0             0.0              0.0  ...   \n",
              "\n",
              "      diameter_2  diagnostic itch  grew  hurt changed  bleed  elevation  \\\n",
              "0           -1.0         NEV    1     1     1       1      1          1   \n",
              "1            5.0         BCC    2     2     1       2      2          2   \n",
              "2           -1.0         ACK    2     1     1       1      1          1   \n",
              "3           -1.0         ACK    2     1     1       1      1          1   \n",
              "4            5.0         BCC    2     2     1       1      2          2   \n",
              "...          ...         ...  ...   ...   ...     ...    ...        ...   \n",
              "2293        -1.0         ACK    2     1     1       1      1          1   \n",
              "2294        12.0         BCC    2     2     1       2      1          1   \n",
              "2295        -1.0         SEK    1     1     1       1      1          1   \n",
              "2296         4.0         BCC    2     1     1       1      1          2   \n",
              "2297        -1.0         SEK    1     2     1       1      1          2   \n",
              "\n",
              "                     img_id  biopsed  \n",
              "0     PAT_1516_1765_530.png    False  \n",
              "1        PAT_46_881_939.png     True  \n",
              "2     PAT_1545_1867_547.png    False  \n",
              "3     PAT_1989_4061_934.png    False  \n",
              "4      PAT_684_1302_588.png     True  \n",
              "...                     ...      ...  \n",
              "2293  PAT_1708_3156_175.png    False  \n",
              "2294     PAT_46_880_140.png     True  \n",
              "2295  PAT_1343_1217_404.png    False  \n",
              "2296    PAT_326_690_823.png     True  \n",
              "2297  PAT_1714_3189_989.png    False  \n",
              "\n",
              "[2298 rows x 24 columns]"
            ],
            "text/html": [
              "\n",
              "  <div id=\"df-36b951e1-f3ce-4fe2-af51-8dfc23ccc0b4\">\n",
              "    <div class=\"colab-df-container\">\n",
              "      <div>\n",
              "<style scoped>\n",
              "    .dataframe tbody tr th:only-of-type {\n",
              "        vertical-align: middle;\n",
              "    }\n",
              "\n",
              "    .dataframe tbody tr th {\n",
              "        vertical-align: top;\n",
              "    }\n",
              "\n",
              "    .dataframe thead th {\n",
              "        text-align: right;\n",
              "    }\n",
              "</style>\n",
              "<table border=\"1\" class=\"dataframe\">\n",
              "  <thead>\n",
              "    <tr style=\"text-align: right;\">\n",
              "      <th></th>\n",
              "      <th>smoke</th>\n",
              "      <th>drink</th>\n",
              "      <th>background_father</th>\n",
              "      <th>background_mother</th>\n",
              "      <th>age</th>\n",
              "      <th>pesticide</th>\n",
              "      <th>gender</th>\n",
              "      <th>skin_cancer_history</th>\n",
              "      <th>cancer_history</th>\n",
              "      <th>has_piped_water</th>\n",
              "      <th>...</th>\n",
              "      <th>diameter_2</th>\n",
              "      <th>diagnostic</th>\n",
              "      <th>itch</th>\n",
              "      <th>grew</th>\n",
              "      <th>hurt</th>\n",
              "      <th>changed</th>\n",
              "      <th>bleed</th>\n",
              "      <th>elevation</th>\n",
              "      <th>img_id</th>\n",
              "      <th>biopsed</th>\n",
              "    </tr>\n",
              "  </thead>\n",
              "  <tbody>\n",
              "    <tr>\n",
              "      <th>0</th>\n",
              "      <td>0.0</td>\n",
              "      <td>0.0</td>\n",
              "      <td>None</td>\n",
              "      <td>None</td>\n",
              "      <td>8</td>\n",
              "      <td>0.0</td>\n",
              "      <td>0.0</td>\n",
              "      <td>0.0</td>\n",
              "      <td>0.0</td>\n",
              "      <td>0.0</td>\n",
              "      <td>...</td>\n",
              "      <td>-1.0</td>\n",
              "      <td>NEV</td>\n",
              "      <td>1</td>\n",
              "      <td>1</td>\n",
              "      <td>1</td>\n",
              "      <td>1</td>\n",
              "      <td>1</td>\n",
              "      <td>1</td>\n",
              "      <td>PAT_1516_1765_530.png</td>\n",
              "      <td>False</td>\n",
              "    </tr>\n",
              "    <tr>\n",
              "      <th>1</th>\n",
              "      <td>1.0</td>\n",
              "      <td>1.0</td>\n",
              "      <td>POMERANIA</td>\n",
              "      <td>POMERANIA</td>\n",
              "      <td>55</td>\n",
              "      <td>1.0</td>\n",
              "      <td>2.0</td>\n",
              "      <td>2.0</td>\n",
              "      <td>2.0</td>\n",
              "      <td>2.0</td>\n",
              "      <td>...</td>\n",
              "      <td>5.0</td>\n",
              "      <td>BCC</td>\n",
              "      <td>2</td>\n",
              "      <td>2</td>\n",
              "      <td>1</td>\n",
              "      <td>2</td>\n",
              "      <td>2</td>\n",
              "      <td>2</td>\n",
              "      <td>PAT_46_881_939.png</td>\n",
              "      <td>True</td>\n",
              "    </tr>\n",
              "    <tr>\n",
              "      <th>2</th>\n",
              "      <td>0.0</td>\n",
              "      <td>0.0</td>\n",
              "      <td>None</td>\n",
              "      <td>None</td>\n",
              "      <td>77</td>\n",
              "      <td>0.0</td>\n",
              "      <td>0.0</td>\n",
              "      <td>0.0</td>\n",
              "      <td>0.0</td>\n",
              "      <td>0.0</td>\n",
              "      <td>...</td>\n",
              "      <td>-1.0</td>\n",
              "      <td>ACK</td>\n",
              "      <td>2</td>\n",
              "      <td>1</td>\n",
              "      <td>1</td>\n",
              "      <td>1</td>\n",
              "      <td>1</td>\n",
              "      <td>1</td>\n",
              "      <td>PAT_1545_1867_547.png</td>\n",
              "      <td>False</td>\n",
              "    </tr>\n",
              "    <tr>\n",
              "      <th>3</th>\n",
              "      <td>0.0</td>\n",
              "      <td>0.0</td>\n",
              "      <td>None</td>\n",
              "      <td>None</td>\n",
              "      <td>75</td>\n",
              "      <td>0.0</td>\n",
              "      <td>0.0</td>\n",
              "      <td>0.0</td>\n",
              "      <td>0.0</td>\n",
              "      <td>0.0</td>\n",
              "      <td>...</td>\n",
              "      <td>-1.0</td>\n",
              "      <td>ACK</td>\n",
              "      <td>2</td>\n",
              "      <td>1</td>\n",
              "      <td>1</td>\n",
              "      <td>1</td>\n",
              "      <td>1</td>\n",
              "      <td>1</td>\n",
              "      <td>PAT_1989_4061_934.png</td>\n",
              "      <td>False</td>\n",
              "    </tr>\n",
              "    <tr>\n",
              "      <th>4</th>\n",
              "      <td>1.0</td>\n",
              "      <td>2.0</td>\n",
              "      <td>POMERANIA</td>\n",
              "      <td>POMERANIA</td>\n",
              "      <td>79</td>\n",
              "      <td>1.0</td>\n",
              "      <td>1.0</td>\n",
              "      <td>2.0</td>\n",
              "      <td>1.0</td>\n",
              "      <td>1.0</td>\n",
              "      <td>...</td>\n",
              "      <td>5.0</td>\n",
              "      <td>BCC</td>\n",
              "      <td>2</td>\n",
              "      <td>2</td>\n",
              "      <td>1</td>\n",
              "      <td>1</td>\n",
              "      <td>2</td>\n",
              "      <td>2</td>\n",
              "      <td>PAT_684_1302_588.png</td>\n",
              "      <td>True</td>\n",
              "    </tr>\n",
              "    <tr>\n",
              "      <th>...</th>\n",
              "      <td>...</td>\n",
              "      <td>...</td>\n",
              "      <td>...</td>\n",
              "      <td>...</td>\n",
              "      <td>...</td>\n",
              "      <td>...</td>\n",
              "      <td>...</td>\n",
              "      <td>...</td>\n",
              "      <td>...</td>\n",
              "      <td>...</td>\n",
              "      <td>...</td>\n",
              "      <td>...</td>\n",
              "      <td>...</td>\n",
              "      <td>...</td>\n",
              "      <td>...</td>\n",
              "      <td>...</td>\n",
              "      <td>...</td>\n",
              "      <td>...</td>\n",
              "      <td>...</td>\n",
              "      <td>...</td>\n",
              "      <td>...</td>\n",
              "    </tr>\n",
              "    <tr>\n",
              "      <th>2293</th>\n",
              "      <td>0.0</td>\n",
              "      <td>0.0</td>\n",
              "      <td>None</td>\n",
              "      <td>None</td>\n",
              "      <td>73</td>\n",
              "      <td>0.0</td>\n",
              "      <td>0.0</td>\n",
              "      <td>0.0</td>\n",
              "      <td>0.0</td>\n",
              "      <td>0.0</td>\n",
              "      <td>...</td>\n",
              "      <td>-1.0</td>\n",
              "      <td>ACK</td>\n",
              "      <td>2</td>\n",
              "      <td>1</td>\n",
              "      <td>1</td>\n",
              "      <td>1</td>\n",
              "      <td>1</td>\n",
              "      <td>1</td>\n",
              "      <td>PAT_1708_3156_175.png</td>\n",
              "      <td>False</td>\n",
              "    </tr>\n",
              "    <tr>\n",
              "      <th>2294</th>\n",
              "      <td>1.0</td>\n",
              "      <td>1.0</td>\n",
              "      <td>POMERANIA</td>\n",
              "      <td>POMERANIA</td>\n",
              "      <td>55</td>\n",
              "      <td>1.0</td>\n",
              "      <td>2.0</td>\n",
              "      <td>2.0</td>\n",
              "      <td>2.0</td>\n",
              "      <td>2.0</td>\n",
              "      <td>...</td>\n",
              "      <td>12.0</td>\n",
              "      <td>BCC</td>\n",
              "      <td>2</td>\n",
              "      <td>2</td>\n",
              "      <td>1</td>\n",
              "      <td>2</td>\n",
              "      <td>1</td>\n",
              "      <td>1</td>\n",
              "      <td>PAT_46_880_140.png</td>\n",
              "      <td>True</td>\n",
              "    </tr>\n",
              "    <tr>\n",
              "      <th>2295</th>\n",
              "      <td>0.0</td>\n",
              "      <td>0.0</td>\n",
              "      <td>None</td>\n",
              "      <td>None</td>\n",
              "      <td>74</td>\n",
              "      <td>0.0</td>\n",
              "      <td>0.0</td>\n",
              "      <td>0.0</td>\n",
              "      <td>0.0</td>\n",
              "      <td>0.0</td>\n",
              "      <td>...</td>\n",
              "      <td>-1.0</td>\n",
              "      <td>SEK</td>\n",
              "      <td>1</td>\n",
              "      <td>1</td>\n",
              "      <td>1</td>\n",
              "      <td>1</td>\n",
              "      <td>1</td>\n",
              "      <td>1</td>\n",
              "      <td>PAT_1343_1217_404.png</td>\n",
              "      <td>False</td>\n",
              "    </tr>\n",
              "    <tr>\n",
              "      <th>2296</th>\n",
              "      <td>1.0</td>\n",
              "      <td>1.0</td>\n",
              "      <td>POMERANIA</td>\n",
              "      <td>POMERANIA</td>\n",
              "      <td>58</td>\n",
              "      <td>2.0</td>\n",
              "      <td>2.0</td>\n",
              "      <td>2.0</td>\n",
              "      <td>2.0</td>\n",
              "      <td>1.0</td>\n",
              "      <td>...</td>\n",
              "      <td>4.0</td>\n",
              "      <td>BCC</td>\n",
              "      <td>2</td>\n",
              "      <td>1</td>\n",
              "      <td>1</td>\n",
              "      <td>1</td>\n",
              "      <td>1</td>\n",
              "      <td>2</td>\n",
              "      <td>PAT_326_690_823.png</td>\n",
              "      <td>True</td>\n",
              "    </tr>\n",
              "    <tr>\n",
              "      <th>2297</th>\n",
              "      <td>0.0</td>\n",
              "      <td>0.0</td>\n",
              "      <td>None</td>\n",
              "      <td>None</td>\n",
              "      <td>41</td>\n",
              "      <td>0.0</td>\n",
              "      <td>0.0</td>\n",
              "      <td>0.0</td>\n",
              "      <td>0.0</td>\n",
              "      <td>0.0</td>\n",
              "      <td>...</td>\n",
              "      <td>-1.0</td>\n",
              "      <td>SEK</td>\n",
              "      <td>1</td>\n",
              "      <td>2</td>\n",
              "      <td>1</td>\n",
              "      <td>1</td>\n",
              "      <td>1</td>\n",
              "      <td>2</td>\n",
              "      <td>PAT_1714_3189_989.png</td>\n",
              "      <td>False</td>\n",
              "    </tr>\n",
              "  </tbody>\n",
              "</table>\n",
              "<p>2298 rows × 24 columns</p>\n",
              "</div>\n",
              "      <button class=\"colab-df-convert\" onclick=\"convertToInteractive('df-36b951e1-f3ce-4fe2-af51-8dfc23ccc0b4')\"\n",
              "              title=\"Convert this dataframe to an interactive table.\"\n",
              "              style=\"display:none;\">\n",
              "        \n",
              "  <svg xmlns=\"http://www.w3.org/2000/svg\" height=\"24px\"viewBox=\"0 0 24 24\"\n",
              "       width=\"24px\">\n",
              "    <path d=\"M0 0h24v24H0V0z\" fill=\"none\"/>\n",
              "    <path d=\"M18.56 5.44l.94 2.06.94-2.06 2.06-.94-2.06-.94-.94-2.06-.94 2.06-2.06.94zm-11 1L8.5 8.5l.94-2.06 2.06-.94-2.06-.94L8.5 2.5l-.94 2.06-2.06.94zm10 10l.94 2.06.94-2.06 2.06-.94-2.06-.94-.94-2.06-.94 2.06-2.06.94z\"/><path d=\"M17.41 7.96l-1.37-1.37c-.4-.4-.92-.59-1.43-.59-.52 0-1.04.2-1.43.59L10.3 9.45l-7.72 7.72c-.78.78-.78 2.05 0 2.83L4 21.41c.39.39.9.59 1.41.59.51 0 1.02-.2 1.41-.59l7.78-7.78 2.81-2.81c.8-.78.8-2.07 0-2.86zM5.41 20L4 18.59l7.72-7.72 1.47 1.35L5.41 20z\"/>\n",
              "  </svg>\n",
              "      </button>\n",
              "      \n",
              "  <style>\n",
              "    .colab-df-container {\n",
              "      display:flex;\n",
              "      flex-wrap:wrap;\n",
              "      gap: 12px;\n",
              "    }\n",
              "\n",
              "    .colab-df-convert {\n",
              "      background-color: #E8F0FE;\n",
              "      border: none;\n",
              "      border-radius: 50%;\n",
              "      cursor: pointer;\n",
              "      display: none;\n",
              "      fill: #1967D2;\n",
              "      height: 32px;\n",
              "      padding: 0 0 0 0;\n",
              "      width: 32px;\n",
              "    }\n",
              "\n",
              "    .colab-df-convert:hover {\n",
              "      background-color: #E2EBFA;\n",
              "      box-shadow: 0px 1px 2px rgba(60, 64, 67, 0.3), 0px 1px 3px 1px rgba(60, 64, 67, 0.15);\n",
              "      fill: #174EA6;\n",
              "    }\n",
              "\n",
              "    [theme=dark] .colab-df-convert {\n",
              "      background-color: #3B4455;\n",
              "      fill: #D2E3FC;\n",
              "    }\n",
              "\n",
              "    [theme=dark] .colab-df-convert:hover {\n",
              "      background-color: #434B5C;\n",
              "      box-shadow: 0px 1px 3px 1px rgba(0, 0, 0, 0.15);\n",
              "      filter: drop-shadow(0px 1px 2px rgba(0, 0, 0, 0.3));\n",
              "      fill: #FFFFFF;\n",
              "    }\n",
              "  </style>\n",
              "\n",
              "      <script>\n",
              "        const buttonEl =\n",
              "          document.querySelector('#df-36b951e1-f3ce-4fe2-af51-8dfc23ccc0b4 button.colab-df-convert');\n",
              "        buttonEl.style.display =\n",
              "          google.colab.kernel.accessAllowed ? 'block' : 'none';\n",
              "\n",
              "        async function convertToInteractive(key) {\n",
              "          const element = document.querySelector('#df-36b951e1-f3ce-4fe2-af51-8dfc23ccc0b4');\n",
              "          const dataTable =\n",
              "            await google.colab.kernel.invokeFunction('convertToInteractive',\n",
              "                                                     [key], {});\n",
              "          if (!dataTable) return;\n",
              "\n",
              "          const docLinkHtml = 'Like what you see? Visit the ' +\n",
              "            '<a target=\"_blank\" href=https://colab.research.google.com/notebooks/data_table.ipynb>data table notebook</a>'\n",
              "            + ' to learn more about interactive tables.';\n",
              "          element.innerHTML = '';\n",
              "          dataTable['output_type'] = 'display_data';\n",
              "          await google.colab.output.renderOutput(dataTable, element);\n",
              "          const docLink = document.createElement('div');\n",
              "          docLink.innerHTML = docLinkHtml;\n",
              "          element.appendChild(docLink);\n",
              "        }\n",
              "      </script>\n",
              "    </div>\n",
              "  </div>\n",
              "  "
            ]
          },
          "metadata": {},
          "execution_count": 10
        }
      ]
    },
    {
      "cell_type": "markdown",
      "source": [
        "# Segmentation with UNET"
      ],
      "metadata": {
        "id": "ATcA62f-MwLk"
      }
    },
    {
      "cell_type": "code",
      "execution_count": null,
      "metadata": {
        "id": "7V8HX-0uIOsf"
      },
      "outputs": [],
      "source": [
        "img_path=\"/content/drive/MyDrive/Segmentation151/Original\"\n",
        "mask_path=\"/content/drive/MyDrive/Segmentation151/Mask\""
      ]
    },
    {
      "cell_type": "code",
      "execution_count": null,
      "metadata": {
        "id": "S7NKHRAfJqAP"
      },
      "outputs": [],
      "source": [
        "import os\n",
        "import glob\n",
        "import tensorflow as tf\n",
        "images_paths=sorted(glob.glob(img_path+\"/*\"))\n",
        "masks_paths=sorted(glob.glob(mask_path+\"/*\"))\n",
        "images=[]\n",
        "target=[]\n",
        "for indx,imgPath in enumerate(images_paths):\n",
        "    # print(imgPath.split('/')[-1])\n",
        "    # if imgPath.split('/')[-1] not in dic['ACK']:\n",
        "    #   continue\n",
        "    image=tf.keras.utils.load_img(imgPath,target_size=(IMG_H,IMG_W))\n",
        "    input_arr = tf.keras.preprocessing.image.img_to_array(image)\n",
        "    input_arr = cv2.cvtColor(input_arr,cv2.COLOR_BGR2RGB)\n",
        "    input_arr=np.array(input_arr)\n",
        "    input_arr=input_arr/255\n",
        "    images.append(np.copy(input_arr))\n",
        "\n",
        "    mask=tf.keras.utils.load_img(masks_paths[indx],target_size=(IMG_H,IMG_W))\n",
        "    input_arr = tf.keras.preprocessing.image.img_to_array(mask)\n",
        "\n",
        "    # print(input_arr.shape)\n",
        "    # color_mode=\"grayscale\"\n",
        "    # plt.show()\n",
        "    input_arr = cv2.cvtColor(input_arr,cv2.COLOR_BGR2GRAY)\n",
        "    input_arr=np.array(input_arr)\n",
        "    input_arr=input_arr/255\n",
        "    \n",
        "    target.append(np.copy(input_arr))\n",
        "    # print(imgPath.split('/')[-1].split('.png')[0]==masks_paths[indx].split('/')[-1].split('.png')[0])"
      ]
    },
    {
      "cell_type": "code",
      "source": [
        "len(images)"
      ],
      "metadata": {
        "colab": {
          "base_uri": "https://localhost:8080/"
        },
        "id": "F0Hz-yq94gBD",
        "outputId": "8889f9e6-8bcf-4076-e139-b06af9a4ca6b"
      },
      "execution_count": null,
      "outputs": [
        {
          "output_type": "execute_result",
          "data": {
            "text/plain": [
              "151"
            ]
          },
          "metadata": {},
          "execution_count": 13
        }
      ]
    },
    {
      "cell_type": "code",
      "execution_count": null,
      "metadata": {
        "id": "AK1lJO5bPhgb"
      },
      "outputs": [],
      "source": [
        "trainX=tf.convert_to_tensor(images[:-3])\n",
        "trainY=tf.convert_to_tensor(target[:-3])\n",
        "valX=tf.convert_to_tensor(images[-3:])\n",
        "valY=tf.convert_to_tensor(target[-3:])"
      ]
    },
    {
      "cell_type": "code",
      "source": [
        "print(\"train\",trainX.shape)\n",
        "print(\"val\",valX.shape)"
      ],
      "metadata": {
        "colab": {
          "base_uri": "https://localhost:8080/"
        },
        "id": "Z-nuoic74vSr",
        "outputId": "11643e05-6605-4886-d6e5-9f8e3d02dab0"
      },
      "execution_count": null,
      "outputs": [
        {
          "output_type": "stream",
          "name": "stdout",
          "text": [
            "train (148, 128, 128, 3)\n",
            "val (3, 128, 128, 3)\n"
          ]
        }
      ]
    },
    {
      "cell_type": "markdown",
      "source": [
        "#code2"
      ],
      "metadata": {
        "id": "kr_e5WSi6SMR"
      }
    },
    {
      "cell_type": "code",
      "source": [
        "import tensorflow as tf\n",
        "\n",
        "\n",
        "IMG_WIDTH = IMG_W\n",
        "IMG_HEIGHT = IMG_H\n",
        "IMG_CHANNELS = 3\n",
        "\n",
        "def build_model():\n",
        "#Build the model\n",
        "  inputs = tf.keras.layers.Input((IMG_HEIGHT, IMG_WIDTH, IMG_CHANNELS))\n",
        "  # s = tf.keras.layers.Lambda(lambda x: x / 255)(inputs)\n",
        "\n",
        "  #Contraction path\n",
        "  c1 = tf.keras.layers.Conv2D(16, (3, 3), activation='relu', kernel_initializer='he_normal', padding='same')(inputs)\n",
        "  c1 = tf.keras.layers.Dropout(0.1)(c1)\n",
        "  c1 = tf.keras.layers.Conv2D(16, (3, 3), activation='relu', kernel_initializer='he_normal', padding='same')(c1)\n",
        "  p1 = tf.keras.layers.MaxPooling2D((2, 2))(c1)\n",
        "\n",
        "  c2 = tf.keras.layers.Conv2D(32, (3, 3), activation='relu', kernel_initializer='he_normal', padding='same')(p1)\n",
        "  c2 = tf.keras.layers.Dropout(0.1)(c2)\n",
        "  c2 = tf.keras.layers.Conv2D(32, (3, 3), activation='relu', kernel_initializer='he_normal', padding='same')(c2)\n",
        "  p2 = tf.keras.layers.MaxPooling2D((2, 2))(c2)\n",
        "  \n",
        "  c3 = tf.keras.layers.Conv2D(64, (3, 3), activation='relu', kernel_initializer='he_normal', padding='same')(p2)\n",
        "  c3 = tf.keras.layers.Dropout(0.2)(c3)\n",
        "  c3 = tf.keras.layers.Conv2D(64, (3, 3), activation='relu', kernel_initializer='he_normal', padding='same')(c3)\n",
        "  p3 = tf.keras.layers.MaxPooling2D((2, 2))(c3)\n",
        "  \n",
        "  c4 = tf.keras.layers.Conv2D(128, (3, 3), activation='relu', kernel_initializer='he_normal', padding='same')(p3)\n",
        "  c4 = tf.keras.layers.Dropout(0.2)(c4)\n",
        "  c4 = tf.keras.layers.Conv2D(128, (3, 3), activation='relu', kernel_initializer='he_normal', padding='same')(c4)\n",
        "  p4 = tf.keras.layers.MaxPooling2D(pool_size=(2, 2))(c4)\n",
        "  \n",
        "  c5 = tf.keras.layers.Conv2D(256, (3, 3), activation='relu', kernel_initializer='he_normal', padding='same')(p4)\n",
        "  c5 = tf.keras.layers.Dropout(0.3)(c5)\n",
        "  c5 = tf.keras.layers.Conv2D(256, (3, 3), activation='relu', kernel_initializer='he_normal', padding='same')(c5)\n",
        "\n",
        "  #Expansive path \n",
        "  u6 = tf.keras.layers.Conv2DTranspose(128, (2, 2), strides=(2, 2), padding='same')(c5)\n",
        "  u6 = tf.keras.layers.concatenate([u6, c4])\n",
        "  c6 = tf.keras.layers.Conv2D(128, (3, 3), activation='relu', kernel_initializer='he_normal', padding='same')(u6)\n",
        "  c6 = tf.keras.layers.Dropout(0.2)(c6)\n",
        "  c6 = tf.keras.layers.Conv2D(128, (3, 3), activation='relu', kernel_initializer='he_normal', padding='same')(c6)\n",
        "  \n",
        "  u7 = tf.keras.layers.Conv2DTranspose(64, (2, 2), strides=(2, 2), padding='same')(c6)\n",
        "  u7 = tf.keras.layers.concatenate([u7, c3])\n",
        "  c7 = tf.keras.layers.Conv2D(64, (3, 3), activation='relu', kernel_initializer='he_normal', padding='same')(u7)\n",
        "  c7 = tf.keras.layers.Dropout(0.2)(c7)\n",
        "  c7 = tf.keras.layers.Conv2D(64, (3, 3), activation='relu', kernel_initializer='he_normal', padding='same')(c7)\n",
        "  \n",
        "  u8 = tf.keras.layers.Conv2DTranspose(32, (2, 2), strides=(2, 2), padding='same')(c7)\n",
        "  u8 = tf.keras.layers.concatenate([u8, c2])\n",
        "  c8 = tf.keras.layers.Conv2D(32, (3, 3), activation='relu', kernel_initializer='he_normal', padding='same')(u8)\n",
        "  c8 = tf.keras.layers.Dropout(0.1)(c8)\n",
        "  c8 = tf.keras.layers.Conv2D(32, (3, 3), activation='relu', kernel_initializer='he_normal', padding='same')(c8)\n",
        "  \n",
        "  u9 = tf.keras.layers.Conv2DTranspose(16, (2, 2), strides=(2, 2), padding='same')(c8)\n",
        "  u9 = tf.keras.layers.concatenate([u9, c1], axis=3)\n",
        "  c9 = tf.keras.layers.Conv2D(16, (3, 3), activation='relu', kernel_initializer='he_normal', padding='same')(u9)\n",
        "  c9 = tf.keras.layers.Dropout(0.1)(c9)\n",
        "  c9 = tf.keras.layers.Conv2D(16, (3, 3), activation='relu', kernel_initializer='he_normal', padding='same')(c9)\n",
        "  \n",
        "  outputs = tf.keras.layers.Conv2D(1, (1, 1), activation='sigmoid')(c9)\n",
        "  \n",
        "  return tf.keras.Model(inputs=[inputs], outputs=[outputs])\n",
        "\n",
        "\n",
        "# model.summary()"
      ],
      "metadata": {
        "id": "jm2DECA3x97p"
      },
      "execution_count": null,
      "outputs": []
    },
    {
      "cell_type": "code",
      "source": [
        "image = cv2.cvtColor(images[0], cv2.COLOR_BGR2RGB)\n",
        "\n",
        "plt.imshow(image)"
      ],
      "metadata": {
        "id": "xVRqgt17Ijrf",
        "colab": {
          "base_uri": "https://localhost:8080/",
          "height": 285
        },
        "outputId": "db6f9e80-96a4-4b06-bc02-269ec921283d"
      },
      "execution_count": null,
      "outputs": [
        {
          "output_type": "execute_result",
          "data": {
            "text/plain": [
              "<matplotlib.image.AxesImage at 0x7f9c6ab62210>"
            ]
          },
          "metadata": {},
          "execution_count": 17
        },
        {
          "output_type": "display_data",
          "data": {
            "text/plain": [
              "<Figure size 432x288 with 1 Axes>"
            ],
            "image/png": "[encoded data removed]"
          },
          "metadata": {
            "needs_background": "light"
          }
        }
      ]
    },
    {
      "cell_type": "code",
      "source": [
        "images[0].shape\n",
        "image = cv2.cvtColor(target[0], cv2.COLOR_GRAY2RGB)\n",
        "plt.imshow(image)"
      ],
      "metadata": {
        "id": "-s4OLR4IIGAp",
        "colab": {
          "base_uri": "https://localhost:8080/",
          "height": 285
        },
        "outputId": "6533e55d-68eb-4be9-e223-c0e6431fa4fb"
      },
      "execution_count": null,
      "outputs": [
        {
          "output_type": "execute_result",
          "data": {
            "text/plain": [
              "<matplotlib.image.AxesImage at 0x7f9c60263c90>"
            ]
          },
          "metadata": {},
          "execution_count": 18
        },
        {
          "output_type": "display_data",
          "data": {
            "text/plain": [
              "<Figure size 432x288 with 1 Axes>"
            ],
            "image/png": "[encoded data removed]"
          },
          "metadata": {
            "needs_background": "light"
          }
        }
      ]
    },
    {
      "cell_type": "markdown",
      "metadata": {
        "id": "Qf__GYtxcYXe"
      },
      "source": [
        "#seg train"
      ]
    },
    {
      "cell_type": "code",
      "execution_count": null,
      "metadata": {
        "colab": {
          "base_uri": "https://localhost:8080/"
        },
        "id": "TOwm-iBcK0lP",
        "outputId": "76a7dc01-ff00-44d6-d393-50e4ce59c717"
      },
      "outputs": [
        {
          "output_type": "stream",
          "name": "stdout",
          "text": [
            "Epoch 1/300\n",
            "50/50 [==============================] - 17s 35ms/step - loss: 0.4441 - accuracy: 0.8156 - val_loss: 0.3376 - val_accuracy: 0.8481\n",
            "Epoch 2/300\n",
            "50/50 [==============================] - 1s 14ms/step - loss: 0.4138 - accuracy: 0.8338 - val_loss: 0.3437 - val_accuracy: 0.8481\n",
            "Epoch 3/300\n",
            "50/50 [==============================] - 1s 13ms/step - loss: 0.3360 - accuracy: 0.8338 - val_loss: 0.3059 - val_accuracy: 0.8481\n",
            "Epoch 4/300\n",
            "50/50 [==============================] - 1s 13ms/step - loss: 0.3480 - accuracy: 0.8338 - val_loss: 0.3458 - val_accuracy: 0.8481\n",
            "Epoch 5/300\n",
            "50/50 [==============================] - 1s 13ms/step - loss: 0.3419 - accuracy: 0.8339 - val_loss: 0.2941 - val_accuracy: 0.8481\n",
            "Epoch 6/300\n",
            "50/50 [==============================] - 1s 14ms/step - loss: 0.3098 - accuracy: 0.8358 - val_loss: 0.2445 - val_accuracy: 0.8492\n",
            "Epoch 7/300\n",
            "50/50 [==============================] - 1s 14ms/step - loss: 0.2857 - accuracy: 0.8548 - val_loss: 0.3024 - val_accuracy: 0.9113\n",
            "Epoch 8/300\n",
            "50/50 [==============================] - 1s 14ms/step - loss: 0.2760 - accuracy: 0.8980 - val_loss: 0.1954 - val_accuracy: 0.9297\n",
            "Epoch 9/300\n",
            "50/50 [==============================] - 1s 14ms/step - loss: 0.2418 - accuracy: 0.9036 - val_loss: 0.1828 - val_accuracy: 0.9175\n",
            "Epoch 10/300\n",
            "50/50 [==============================] - 1s 14ms/step - loss: 0.2376 - accuracy: 0.9041 - val_loss: 0.1674 - val_accuracy: 0.9381\n",
            "Epoch 11/300\n",
            "50/50 [==============================] - 1s 13ms/step - loss: 0.2430 - accuracy: 0.9028 - val_loss: 0.2581 - val_accuracy: 0.9105\n",
            "Epoch 12/300\n",
            "50/50 [==============================] - 1s 14ms/step - loss: 0.2396 - accuracy: 0.9048 - val_loss: 0.2334 - val_accuracy: 0.8990\n",
            "Epoch 13/300\n",
            "50/50 [==============================] - 1s 14ms/step - loss: 0.2573 - accuracy: 0.9038 - val_loss: 0.1695 - val_accuracy: 0.9378\n",
            "Epoch 14/300\n",
            "50/50 [==============================] - 1s 13ms/step - loss: 0.2275 - accuracy: 0.9098 - val_loss: 0.1653 - val_accuracy: 0.9290\n",
            "Epoch 15/300\n",
            "50/50 [==============================] - 1s 14ms/step - loss: 0.2323 - accuracy: 0.9085 - val_loss: 0.1768 - val_accuracy: 0.9408\n",
            "Epoch 16/300\n",
            "50/50 [==============================] - 1s 14ms/step - loss: 0.2293 - accuracy: 0.9102 - val_loss: 0.1749 - val_accuracy: 0.9249\n",
            "Epoch 17/300\n",
            "50/50 [==============================] - 1s 14ms/step - loss: 0.2265 - accuracy: 0.9105 - val_loss: 0.1599 - val_accuracy: 0.9302\n",
            "Epoch 18/300\n",
            "50/50 [==============================] - 1s 14ms/step - loss: 0.2339 - accuracy: 0.9127 - val_loss: 0.1578 - val_accuracy: 0.9339\n",
            "Epoch 19/300\n",
            "50/50 [==============================] - 1s 14ms/step - loss: 0.2428 - accuracy: 0.9028 - val_loss: 0.1741 - val_accuracy: 0.9354\n",
            "Epoch 20/300\n",
            "50/50 [==============================] - 1s 13ms/step - loss: 0.2287 - accuracy: 0.9086 - val_loss: 0.1614 - val_accuracy: 0.9339\n",
            "Epoch 21/300\n",
            "50/50 [==============================] - 1s 14ms/step - loss: 0.2277 - accuracy: 0.9120 - val_loss: 0.1590 - val_accuracy: 0.9290\n",
            "Epoch 22/300\n",
            "50/50 [==============================] - 1s 13ms/step - loss: 0.2172 - accuracy: 0.9137 - val_loss: 0.1699 - val_accuracy: 0.9342\n",
            "Epoch 23/300\n",
            "50/50 [==============================] - 1s 13ms/step - loss: 0.2178 - accuracy: 0.9136 - val_loss: 0.1552 - val_accuracy: 0.9344\n",
            "Epoch 24/300\n",
            "50/50 [==============================] - 1s 13ms/step - loss: 0.2148 - accuracy: 0.9137 - val_loss: 0.1520 - val_accuracy: 0.9357\n",
            "Epoch 25/300\n",
            "50/50 [==============================] - 1s 13ms/step - loss: 0.2186 - accuracy: 0.9140 - val_loss: 0.1813 - val_accuracy: 0.9333\n",
            "Epoch 26/300\n",
            "50/50 [==============================] - 1s 13ms/step - loss: 0.2113 - accuracy: 0.9164 - val_loss: 0.1787 - val_accuracy: 0.9353\n",
            "Epoch 27/300\n",
            "50/50 [==============================] - 1s 14ms/step - loss: 0.2092 - accuracy: 0.9170 - val_loss: 0.1577 - val_accuracy: 0.9345\n",
            "Epoch 28/300\n",
            "50/50 [==============================] - 1s 14ms/step - loss: 0.2189 - accuracy: 0.9146 - val_loss: 0.2364 - val_accuracy: 0.9308\n",
            "Epoch 29/300\n",
            "50/50 [==============================] - 1s 13ms/step - loss: 0.2310 - accuracy: 0.9111 - val_loss: 0.1639 - val_accuracy: 0.9374\n",
            "Epoch 30/300\n",
            "50/50 [==============================] - 1s 13ms/step - loss: 0.2094 - accuracy: 0.9162 - val_loss: 0.1536 - val_accuracy: 0.9390\n",
            "Epoch 31/300\n",
            "50/50 [==============================] - 1s 13ms/step - loss: 0.2049 - accuracy: 0.9170 - val_loss: 0.1430 - val_accuracy: 0.9346\n",
            "Epoch 32/300\n",
            "50/50 [==============================] - 1s 13ms/step - loss: 0.2158 - accuracy: 0.9129 - val_loss: 0.1572 - val_accuracy: 0.9341\n",
            "Epoch 33/300\n",
            "50/50 [==============================] - 1s 13ms/step - loss: 0.2066 - accuracy: 0.9167 - val_loss: 0.1455 - val_accuracy: 0.9374\n",
            "Epoch 34/300\n",
            "50/50 [==============================] - 1s 13ms/step - loss: 0.2102 - accuracy: 0.9178 - val_loss: 0.1680 - val_accuracy: 0.9302\n",
            "Epoch 35/300\n",
            "50/50 [==============================] - 1s 14ms/step - loss: 0.2117 - accuracy: 0.9178 - val_loss: 0.1462 - val_accuracy: 0.9400\n",
            "Epoch 36/300\n",
            "50/50 [==============================] - 1s 14ms/step - loss: 0.2050 - accuracy: 0.9179 - val_loss: 0.1541 - val_accuracy: 0.9366\n",
            "Epoch 37/300\n",
            "50/50 [==============================] - 1s 14ms/step - loss: 0.2044 - accuracy: 0.9187 - val_loss: 0.1447 - val_accuracy: 0.9374\n",
            "Epoch 38/300\n",
            "50/50 [==============================] - 1s 13ms/step - loss: 0.2035 - accuracy: 0.9192 - val_loss: 0.1455 - val_accuracy: 0.9393\n",
            "Epoch 39/300\n",
            "50/50 [==============================] - 1s 13ms/step - loss: 0.2250 - accuracy: 0.9160 - val_loss: 0.1515 - val_accuracy: 0.9381\n",
            "Epoch 40/300\n",
            "50/50 [==============================] - 1s 13ms/step - loss: 0.2026 - accuracy: 0.9189 - val_loss: 0.1424 - val_accuracy: 0.9402\n",
            "Epoch 41/300\n",
            "50/50 [==============================] - 1s 14ms/step - loss: 0.1973 - accuracy: 0.9215 - val_loss: 0.1381 - val_accuracy: 0.9366\n",
            "Epoch 42/300\n",
            "50/50 [==============================] - 1s 14ms/step - loss: 0.2033 - accuracy: 0.9208 - val_loss: 0.1325 - val_accuracy: 0.9447\n",
            "Epoch 43/300\n",
            "50/50 [==============================] - 1s 13ms/step - loss: 0.1991 - accuracy: 0.9204 - val_loss: 0.1339 - val_accuracy: 0.9424\n",
            "Epoch 44/300\n",
            "50/50 [==============================] - 1s 13ms/step - loss: 0.1947 - accuracy: 0.9230 - val_loss: 0.1606 - val_accuracy: 0.9377\n",
            "Epoch 45/300\n",
            "50/50 [==============================] - 1s 14ms/step - loss: 0.1879 - accuracy: 0.9259 - val_loss: 0.1323 - val_accuracy: 0.9499\n",
            "Epoch 46/300\n",
            "50/50 [==============================] - 1s 14ms/step - loss: 0.1891 - accuracy: 0.9240 - val_loss: 0.1540 - val_accuracy: 0.9239\n",
            "Epoch 47/300\n",
            "50/50 [==============================] - 1s 14ms/step - loss: 0.2035 - accuracy: 0.9191 - val_loss: 0.1407 - val_accuracy: 0.9434\n",
            "Epoch 48/300\n",
            "50/50 [==============================] - 1s 13ms/step - loss: 0.1856 - accuracy: 0.9259 - val_loss: 0.1527 - val_accuracy: 0.9446\n",
            "Epoch 49/300\n",
            "50/50 [==============================] - 1s 14ms/step - loss: 0.1784 - accuracy: 0.9298 - val_loss: 0.1404 - val_accuracy: 0.9440\n",
            "Epoch 50/300\n",
            "50/50 [==============================] - 1s 14ms/step - loss: 0.1747 - accuracy: 0.9314 - val_loss: 0.1123 - val_accuracy: 0.9563\n",
            "Epoch 51/300\n",
            "50/50 [==============================] - 1s 14ms/step - loss: 0.1752 - accuracy: 0.9309 - val_loss: 0.1030 - val_accuracy: 0.9597\n",
            "Epoch 52/300\n",
            "50/50 [==============================] - 1s 14ms/step - loss: 0.1802 - accuracy: 0.9307 - val_loss: 0.1248 - val_accuracy: 0.9610\n",
            "Epoch 53/300\n",
            "50/50 [==============================] - 1s 13ms/step - loss: 0.1732 - accuracy: 0.9306 - val_loss: 0.1274 - val_accuracy: 0.9509\n",
            "Epoch 54/300\n",
            "50/50 [==============================] - 1s 14ms/step - loss: 0.1699 - accuracy: 0.9349 - val_loss: 0.1375 - val_accuracy: 0.9419\n",
            "Epoch 55/300\n",
            "50/50 [==============================] - 1s 14ms/step - loss: 0.1746 - accuracy: 0.9302 - val_loss: 0.1481 - val_accuracy: 0.9409\n",
            "Epoch 56/300\n",
            "50/50 [==============================] - 1s 14ms/step - loss: 0.1598 - accuracy: 0.9365 - val_loss: 0.1197 - val_accuracy: 0.9562\n",
            "Epoch 57/300\n",
            "50/50 [==============================] - 1s 14ms/step - loss: 0.1501 - accuracy: 0.9416 - val_loss: 0.1428 - val_accuracy: 0.9428\n",
            "Epoch 58/300\n",
            "50/50 [==============================] - 1s 14ms/step - loss: 0.1463 - accuracy: 0.9443 - val_loss: 0.1697 - val_accuracy: 0.9238\n",
            "Epoch 59/300\n",
            "50/50 [==============================] - 1s 14ms/step - loss: 0.1530 - accuracy: 0.9395 - val_loss: 0.1515 - val_accuracy: 0.9383\n",
            "Epoch 60/300\n",
            "50/50 [==============================] - 1s 13ms/step - loss: 0.1557 - accuracy: 0.9396 - val_loss: 0.1503 - val_accuracy: 0.9392\n",
            "Epoch 61/300\n",
            "50/50 [==============================] - 1s 14ms/step - loss: 0.1463 - accuracy: 0.9444 - val_loss: 0.1904 - val_accuracy: 0.9206\n",
            "Epoch 62/300\n",
            "50/50 [==============================] - 1s 14ms/step - loss: 0.1569 - accuracy: 0.9401 - val_loss: 0.1325 - val_accuracy: 0.9485\n",
            "Epoch 63/300\n",
            "50/50 [==============================] - 1s 14ms/step - loss: 0.1401 - accuracy: 0.9463 - val_loss: 0.1465 - val_accuracy: 0.9405\n",
            "Epoch 64/300\n",
            "50/50 [==============================] - 1s 14ms/step - loss: 0.1333 - accuracy: 0.9481 - val_loss: 0.1035 - val_accuracy: 0.9536\n",
            "Epoch 65/300\n",
            "50/50 [==============================] - 1s 14ms/step - loss: 0.1309 - accuracy: 0.9501 - val_loss: 0.1256 - val_accuracy: 0.9500\n",
            "Epoch 66/300\n",
            "50/50 [==============================] - 1s 14ms/step - loss: 0.1294 - accuracy: 0.9488 - val_loss: 0.1548 - val_accuracy: 0.9400\n",
            "Epoch 67/300\n",
            "50/50 [==============================] - 1s 14ms/step - loss: 0.1271 - accuracy: 0.9507 - val_loss: 0.0995 - val_accuracy: 0.9599\n",
            "Epoch 68/300\n",
            "50/50 [==============================] - 1s 14ms/step - loss: 0.1462 - accuracy: 0.9431 - val_loss: 0.1497 - val_accuracy: 0.9383\n",
            "Epoch 69/300\n",
            "50/50 [==============================] - 1s 14ms/step - loss: 0.1350 - accuracy: 0.9485 - val_loss: 0.1057 - val_accuracy: 0.9584\n",
            "Epoch 70/300\n",
            "50/50 [==============================] - 1s 14ms/step - loss: 0.1195 - accuracy: 0.9532 - val_loss: 0.1047 - val_accuracy: 0.9592\n",
            "Epoch 71/300\n",
            "50/50 [==============================] - 1s 14ms/step - loss: 0.1308 - accuracy: 0.9482 - val_loss: 0.1614 - val_accuracy: 0.9314\n",
            "Epoch 72/300\n",
            "50/50 [==============================] - 1s 13ms/step - loss: 0.1066 - accuracy: 0.9571 - val_loss: 0.1298 - val_accuracy: 0.9439\n",
            "Epoch 73/300\n",
            "50/50 [==============================] - 1s 14ms/step - loss: 0.1079 - accuracy: 0.9569 - val_loss: 0.1483 - val_accuracy: 0.9365\n",
            "Epoch 74/300\n",
            "50/50 [==============================] - 1s 14ms/step - loss: 0.1065 - accuracy: 0.9577 - val_loss: 0.1502 - val_accuracy: 0.9497\n",
            "Epoch 75/300\n",
            "50/50 [==============================] - 1s 14ms/step - loss: 0.1100 - accuracy: 0.9566 - val_loss: 0.1922 - val_accuracy: 0.9259\n",
            "Epoch 76/300\n",
            "50/50 [==============================] - 1s 14ms/step - loss: 0.0975 - accuracy: 0.9615 - val_loss: 0.1806 - val_accuracy: 0.9388\n",
            "Epoch 77/300\n",
            "50/50 [==============================] - 1s 14ms/step - loss: 0.0978 - accuracy: 0.9611 - val_loss: 0.1574 - val_accuracy: 0.9380\n",
            "Epoch 78/300\n",
            "50/50 [==============================] - 1s 14ms/step - loss: 0.0930 - accuracy: 0.9623 - val_loss: 0.1371 - val_accuracy: 0.9450\n",
            "Epoch 79/300\n",
            "50/50 [==============================] - 1s 14ms/step - loss: 0.0936 - accuracy: 0.9615 - val_loss: 0.1014 - val_accuracy: 0.9603\n",
            "Epoch 80/300\n",
            "50/50 [==============================] - 1s 14ms/step - loss: 0.0926 - accuracy: 0.9631 - val_loss: 0.1657 - val_accuracy: 0.9371\n",
            "Epoch 81/300\n",
            "50/50 [==============================] - 1s 14ms/step - loss: 0.1197 - accuracy: 0.9541 - val_loss: 0.0997 - val_accuracy: 0.9647\n",
            "Epoch 82/300\n",
            "50/50 [==============================] - 1s 14ms/step - loss: 0.0913 - accuracy: 0.9621 - val_loss: 0.1843 - val_accuracy: 0.9415\n",
            "Epoch 83/300\n",
            "50/50 [==============================] - 1s 14ms/step - loss: 0.0913 - accuracy: 0.9619 - val_loss: 0.1556 - val_accuracy: 0.9450\n",
            "Epoch 84/300\n",
            "50/50 [==============================] - 1s 14ms/step - loss: 0.0856 - accuracy: 0.9649 - val_loss: 0.1536 - val_accuracy: 0.9470\n",
            "Epoch 85/300\n",
            "50/50 [==============================] - 1s 14ms/step - loss: 0.1044 - accuracy: 0.9603 - val_loss: 0.1769 - val_accuracy: 0.9333\n",
            "Epoch 86/300\n",
            "50/50 [==============================] - 1s 14ms/step - loss: 0.0943 - accuracy: 0.9623 - val_loss: 0.2199 - val_accuracy: 0.9380\n",
            "Epoch 87/300\n",
            "50/50 [==============================] - 1s 14ms/step - loss: 0.0831 - accuracy: 0.9660 - val_loss: 0.1454 - val_accuracy: 0.9469\n",
            "Epoch 88/300\n",
            "50/50 [==============================] - 1s 14ms/step - loss: 0.0724 - accuracy: 0.9700 - val_loss: 0.1894 - val_accuracy: 0.9425\n",
            "Epoch 89/300\n",
            "50/50 [==============================] - 1s 14ms/step - loss: 0.0817 - accuracy: 0.9663 - val_loss: 0.2256 - val_accuracy: 0.9316\n",
            "Epoch 90/300\n",
            "50/50 [==============================] - 1s 14ms/step - loss: 0.0710 - accuracy: 0.9704 - val_loss: 0.2364 - val_accuracy: 0.9390\n",
            "Epoch 91/300\n",
            "50/50 [==============================] - 1s 13ms/step - loss: 0.0714 - accuracy: 0.9695 - val_loss: 0.1675 - val_accuracy: 0.9428\n",
            "Epoch 92/300\n",
            "50/50 [==============================] - 1s 14ms/step - loss: 0.0693 - accuracy: 0.9717 - val_loss: 0.1941 - val_accuracy: 0.9481\n",
            "Epoch 93/300\n",
            "50/50 [==============================] - 1s 14ms/step - loss: 0.0659 - accuracy: 0.9723 - val_loss: 0.1989 - val_accuracy: 0.9417\n",
            "Epoch 94/300\n",
            "50/50 [==============================] - 1s 14ms/step - loss: 0.0674 - accuracy: 0.9722 - val_loss: 0.2065 - val_accuracy: 0.9431\n",
            "Epoch 95/300\n",
            "50/50 [==============================] - 1s 14ms/step - loss: 0.0663 - accuracy: 0.9717 - val_loss: 0.1163 - val_accuracy: 0.9571\n",
            "Epoch 96/300\n",
            "50/50 [==============================] - 1s 14ms/step - loss: 0.0643 - accuracy: 0.9732 - val_loss: 0.2863 - val_accuracy: 0.9095\n",
            "Epoch 97/300\n",
            "50/50 [==============================] - 1s 14ms/step - loss: 0.0728 - accuracy: 0.9706 - val_loss: 0.2371 - val_accuracy: 0.9380\n",
            "Epoch 98/300\n",
            "50/50 [==============================] - 1s 14ms/step - loss: 0.0689 - accuracy: 0.9719 - val_loss: 0.1236 - val_accuracy: 0.9434\n",
            "Epoch 99/300\n",
            "50/50 [==============================] - 1s 14ms/step - loss: 0.0652 - accuracy: 0.9721 - val_loss: 0.2201 - val_accuracy: 0.9347\n",
            "Epoch 100/300\n",
            "50/50 [==============================] - 1s 14ms/step - loss: 0.0613 - accuracy: 0.9739 - val_loss: 0.2292 - val_accuracy: 0.9421\n",
            "Epoch 101/300\n",
            "50/50 [==============================] - 1s 14ms/step - loss: 0.0569 - accuracy: 0.9765 - val_loss: 0.1024 - val_accuracy: 0.9603\n",
            "Epoch 102/300\n",
            "50/50 [==============================] - 1s 14ms/step - loss: 0.0536 - accuracy: 0.9776 - val_loss: 0.1475 - val_accuracy: 0.9492\n",
            "Epoch 103/300\n",
            "50/50 [==============================] - 1s 14ms/step - loss: 0.0519 - accuracy: 0.9781 - val_loss: 0.2219 - val_accuracy: 0.9378\n",
            "Epoch 104/300\n",
            "50/50 [==============================] - 1s 14ms/step - loss: 0.0503 - accuracy: 0.9785 - val_loss: 0.1654 - val_accuracy: 0.9508\n",
            "Epoch 105/300\n",
            "50/50 [==============================] - 1s 14ms/step - loss: 0.0504 - accuracy: 0.9786 - val_loss: 0.2371 - val_accuracy: 0.9328\n",
            "Epoch 106/300\n",
            "50/50 [==============================] - 1s 14ms/step - loss: 0.0468 - accuracy: 0.9802 - val_loss: 0.2557 - val_accuracy: 0.9398\n",
            "Epoch 107/300\n",
            "50/50 [==============================] - 1s 14ms/step - loss: 0.0563 - accuracy: 0.9767 - val_loss: 0.1853 - val_accuracy: 0.9402\n",
            "Epoch 108/300\n",
            "50/50 [==============================] - 1s 14ms/step - loss: 0.0475 - accuracy: 0.9800 - val_loss: 0.1518 - val_accuracy: 0.9546\n",
            "Epoch 109/300\n",
            "50/50 [==============================] - 1s 14ms/step - loss: 0.0434 - accuracy: 0.9815 - val_loss: 0.2374 - val_accuracy: 0.9424\n",
            "Epoch 110/300\n",
            "50/50 [==============================] - 1s 14ms/step - loss: 0.0452 - accuracy: 0.9807 - val_loss: 0.1816 - val_accuracy: 0.9454\n",
            "Epoch 111/300\n",
            "50/50 [==============================] - 1s 14ms/step - loss: 0.0466 - accuracy: 0.9803 - val_loss: 0.3107 - val_accuracy: 0.9350\n",
            "Epoch 112/300\n",
            "50/50 [==============================] - 1s 14ms/step - loss: 0.0527 - accuracy: 0.9786 - val_loss: 0.2889 - val_accuracy: 0.9444\n",
            "Epoch 113/300\n",
            "50/50 [==============================] - 1s 14ms/step - loss: 0.0856 - accuracy: 0.9659 - val_loss: 0.2211 - val_accuracy: 0.9457\n",
            "Epoch 114/300\n",
            "50/50 [==============================] - 1s 14ms/step - loss: 0.0680 - accuracy: 0.9725 - val_loss: 0.1235 - val_accuracy: 0.9574\n",
            "Epoch 115/300\n",
            "50/50 [==============================] - 1s 14ms/step - loss: 0.0705 - accuracy: 0.9723 - val_loss: 0.1223 - val_accuracy: 0.9495\n",
            "Epoch 116/300\n",
            "50/50 [==============================] - 1s 14ms/step - loss: 0.1015 - accuracy: 0.9606 - val_loss: 0.1061 - val_accuracy: 0.9605\n",
            "Epoch 117/300\n",
            "50/50 [==============================] - 1s 14ms/step - loss: 0.0662 - accuracy: 0.9727 - val_loss: 0.2377 - val_accuracy: 0.9450\n",
            "Epoch 118/300\n",
            "50/50 [==============================] - 1s 14ms/step - loss: 0.0559 - accuracy: 0.9775 - val_loss: 0.2123 - val_accuracy: 0.9431\n",
            "Epoch 119/300\n",
            "50/50 [==============================] - 1s 14ms/step - loss: 0.0507 - accuracy: 0.9786 - val_loss: 0.3113 - val_accuracy: 0.9411\n",
            "Epoch 120/300\n",
            "50/50 [==============================] - 1s 14ms/step - loss: 0.0480 - accuracy: 0.9794 - val_loss: 0.2738 - val_accuracy: 0.9348\n",
            "Epoch 121/300\n",
            "50/50 [==============================] - 1s 14ms/step - loss: 0.0412 - accuracy: 0.9824 - val_loss: 0.3544 - val_accuracy: 0.9321\n",
            "Epoch 122/300\n",
            "50/50 [==============================] - 1s 14ms/step - loss: 0.0410 - accuracy: 0.9826 - val_loss: 0.2312 - val_accuracy: 0.9327\n",
            "Epoch 123/300\n",
            "50/50 [==============================] - 1s 14ms/step - loss: 0.0623 - accuracy: 0.9752 - val_loss: 0.2252 - val_accuracy: 0.9305\n",
            "Epoch 124/300\n",
            "50/50 [==============================] - 1s 14ms/step - loss: 0.0467 - accuracy: 0.9808 - val_loss: 0.1364 - val_accuracy: 0.9527\n",
            "Epoch 125/300\n",
            "50/50 [==============================] - 1s 14ms/step - loss: 0.0386 - accuracy: 0.9835 - val_loss: 0.2615 - val_accuracy: 0.9358\n",
            "Epoch 126/300\n",
            "50/50 [==============================] - 1s 14ms/step - loss: 0.0356 - accuracy: 0.9849 - val_loss: 0.2672 - val_accuracy: 0.9392\n",
            "Epoch 127/300\n",
            "50/50 [==============================] - 1s 14ms/step - loss: 0.0353 - accuracy: 0.9850 - val_loss: 0.2065 - val_accuracy: 0.9445\n",
            "Epoch 128/300\n",
            "50/50 [==============================] - 1s 14ms/step - loss: 0.0361 - accuracy: 0.9844 - val_loss: 0.1777 - val_accuracy: 0.9441\n",
            "Epoch 129/300\n",
            "50/50 [==============================] - 1s 14ms/step - loss: 0.0363 - accuracy: 0.9845 - val_loss: 0.2664 - val_accuracy: 0.9393\n",
            "Epoch 130/300\n",
            "50/50 [==============================] - 1s 14ms/step - loss: 0.0328 - accuracy: 0.9859 - val_loss: 0.2817 - val_accuracy: 0.9419\n",
            "Epoch 131/300\n",
            "50/50 [==============================] - 1s 14ms/step - loss: 0.0449 - accuracy: 0.9817 - val_loss: 0.2814 - val_accuracy: 0.9426\n",
            "Epoch 132/300\n",
            "50/50 [==============================] - 1s 14ms/step - loss: 0.0458 - accuracy: 0.9810 - val_loss: 0.1221 - val_accuracy: 0.9573\n",
            "Epoch 133/300\n",
            "50/50 [==============================] - 1s 14ms/step - loss: 0.0428 - accuracy: 0.9822 - val_loss: 0.2377 - val_accuracy: 0.9358\n",
            "Epoch 134/300\n",
            "50/50 [==============================] - 1s 14ms/step - loss: 0.0488 - accuracy: 0.9801 - val_loss: 0.2329 - val_accuracy: 0.9252\n",
            "Epoch 135/300\n",
            "50/50 [==============================] - 1s 14ms/step - loss: 0.0481 - accuracy: 0.9812 - val_loss: 0.3259 - val_accuracy: 0.9308\n",
            "Epoch 136/300\n",
            "50/50 [==============================] - 1s 14ms/step - loss: 0.0364 - accuracy: 0.9847 - val_loss: 0.2689 - val_accuracy: 0.9362\n",
            "Epoch 137/300\n",
            "50/50 [==============================] - 1s 14ms/step - loss: 0.0336 - accuracy: 0.9856 - val_loss: 0.3340 - val_accuracy: 0.9371\n",
            "Epoch 138/300\n",
            "50/50 [==============================] - 1s 14ms/step - loss: 0.0318 - accuracy: 0.9865 - val_loss: 0.2797 - val_accuracy: 0.9398\n",
            "Epoch 139/300\n",
            "50/50 [==============================] - 1s 14ms/step - loss: 0.0301 - accuracy: 0.9874 - val_loss: 0.2187 - val_accuracy: 0.9380\n",
            "Epoch 140/300\n",
            "50/50 [==============================] - 1s 14ms/step - loss: 0.0293 - accuracy: 0.9875 - val_loss: 0.3626 - val_accuracy: 0.9334\n",
            "Epoch 141/300\n",
            "50/50 [==============================] - 1s 14ms/step - loss: 0.0292 - accuracy: 0.9876 - val_loss: 0.3152 - val_accuracy: 0.9328\n",
            "Epoch 142/300\n",
            "50/50 [==============================] - 1s 14ms/step - loss: 0.0279 - accuracy: 0.9881 - val_loss: 0.2688 - val_accuracy: 0.9380\n",
            "Epoch 143/300\n",
            "50/50 [==============================] - 1s 14ms/step - loss: 0.0276 - accuracy: 0.9882 - val_loss: 0.3216 - val_accuracy: 0.9290\n",
            "Epoch 144/300\n",
            "50/50 [==============================] - 1s 14ms/step - loss: 0.0279 - accuracy: 0.9882 - val_loss: 0.3535 - val_accuracy: 0.9308\n",
            "Epoch 145/300\n",
            "50/50 [==============================] - 1s 14ms/step - loss: 0.0263 - accuracy: 0.9889 - val_loss: 0.3422 - val_accuracy: 0.9366\n",
            "Epoch 146/300\n",
            "50/50 [==============================] - 1s 14ms/step - loss: 0.0319 - accuracy: 0.9870 - val_loss: 0.3148 - val_accuracy: 0.9338\n",
            "Epoch 147/300\n",
            "50/50 [==============================] - 1s 14ms/step - loss: 0.0442 - accuracy: 0.9822 - val_loss: 0.2225 - val_accuracy: 0.9389\n",
            "Epoch 148/300\n",
            "50/50 [==============================] - 1s 14ms/step - loss: 0.1088 - accuracy: 0.9604 - val_loss: 0.1647 - val_accuracy: 0.9386\n",
            "Epoch 149/300\n",
            "50/50 [==============================] - 1s 14ms/step - loss: 0.1204 - accuracy: 0.9587 - val_loss: 0.1727 - val_accuracy: 0.9343\n",
            "Epoch 150/300\n",
            "50/50 [==============================] - 1s 14ms/step - loss: 0.0829 - accuracy: 0.9682 - val_loss: 0.1652 - val_accuracy: 0.9409\n",
            "Epoch 151/300\n",
            "50/50 [==============================] - 1s 14ms/step - loss: 0.0629 - accuracy: 0.9769 - val_loss: 0.2944 - val_accuracy: 0.9297\n",
            "Epoch 152/300\n",
            "50/50 [==============================] - 1s 14ms/step - loss: 0.0460 - accuracy: 0.9818 - val_loss: 0.2101 - val_accuracy: 0.9352\n",
            "Epoch 153/300\n",
            "50/50 [==============================] - 1s 14ms/step - loss: 0.0405 - accuracy: 0.9833 - val_loss: 0.2323 - val_accuracy: 0.9352\n",
            "Epoch 154/300\n",
            "50/50 [==============================] - 1s 15ms/step - loss: 0.0492 - accuracy: 0.9818 - val_loss: 0.3150 - val_accuracy: 0.9265\n",
            "Epoch 155/300\n",
            "50/50 [==============================] - 1s 14ms/step - loss: 0.0389 - accuracy: 0.9840 - val_loss: 0.2865 - val_accuracy: 0.9284\n",
            "Epoch 156/300\n",
            "50/50 [==============================] - 1s 14ms/step - loss: 0.0310 - accuracy: 0.9868 - val_loss: 0.2617 - val_accuracy: 0.9390\n",
            "Epoch 157/300\n",
            "50/50 [==============================] - 1s 14ms/step - loss: 0.0280 - accuracy: 0.9881 - val_loss: 0.3362 - val_accuracy: 0.9382\n",
            "Epoch 158/300\n",
            "50/50 [==============================] - 1s 14ms/step - loss: 0.0274 - accuracy: 0.9882 - val_loss: 0.3718 - val_accuracy: 0.9337\n",
            "Epoch 159/300\n",
            "50/50 [==============================] - 1s 14ms/step - loss: 0.0283 - accuracy: 0.9883 - val_loss: 0.3849 - val_accuracy: 0.9291\n",
            "Epoch 160/300\n",
            "50/50 [==============================] - 1s 14ms/step - loss: 0.0259 - accuracy: 0.9889 - val_loss: 0.3965 - val_accuracy: 0.9306\n",
            "Epoch 161/300\n",
            "50/50 [==============================] - 1s 14ms/step - loss: 0.0252 - accuracy: 0.9893 - val_loss: 0.4146 - val_accuracy: 0.9289\n",
            "Epoch 162/300\n",
            "50/50 [==============================] - 1s 14ms/step - loss: 0.0245 - accuracy: 0.9895 - val_loss: 0.4451 - val_accuracy: 0.9255\n",
            "Epoch 163/300\n",
            "50/50 [==============================] - 1s 14ms/step - loss: 0.0242 - accuracy: 0.9897 - val_loss: 0.4388 - val_accuracy: 0.9326\n",
            "Epoch 164/300\n",
            "50/50 [==============================] - 1s 14ms/step - loss: 0.0244 - accuracy: 0.9896 - val_loss: 0.4416 - val_accuracy: 0.9285\n",
            "Epoch 165/300\n",
            "50/50 [==============================] - 1s 14ms/step - loss: 0.0224 - accuracy: 0.9903 - val_loss: 0.4654 - val_accuracy: 0.9281\n",
            "Epoch 166/300\n",
            "50/50 [==============================] - 1s 14ms/step - loss: 0.0236 - accuracy: 0.9900 - val_loss: 0.4463 - val_accuracy: 0.9327\n",
            "Epoch 167/300\n",
            "50/50 [==============================] - 1s 14ms/step - loss: 0.0234 - accuracy: 0.9900 - val_loss: 0.3730 - val_accuracy: 0.9337\n",
            "Epoch 168/300\n",
            "50/50 [==============================] - 1s 14ms/step - loss: 0.0250 - accuracy: 0.9898 - val_loss: 0.4089 - val_accuracy: 0.9330\n",
            "Epoch 169/300\n",
            "50/50 [==============================] - 1s 14ms/step - loss: 0.0253 - accuracy: 0.9896 - val_loss: 0.3864 - val_accuracy: 0.9380\n",
            "Epoch 170/300\n",
            "50/50 [==============================] - 1s 14ms/step - loss: 0.0219 - accuracy: 0.9907 - val_loss: 0.4257 - val_accuracy: 0.9339\n",
            "Epoch 171/300\n",
            "50/50 [==============================] - 1s 14ms/step - loss: 0.0217 - accuracy: 0.9909 - val_loss: 0.3966 - val_accuracy: 0.9291\n",
            "Epoch 172/300\n",
            "50/50 [==============================] - 1s 14ms/step - loss: 0.0215 - accuracy: 0.9909 - val_loss: 0.3952 - val_accuracy: 0.9291\n",
            "Epoch 173/300\n",
            "50/50 [==============================] - 1s 14ms/step - loss: 0.0235 - accuracy: 0.9903 - val_loss: 0.4575 - val_accuracy: 0.9282\n",
            "Epoch 174/300\n",
            "50/50 [==============================] - 1s 14ms/step - loss: 0.0297 - accuracy: 0.9886 - val_loss: 0.2679 - val_accuracy: 0.9298\n",
            "Epoch 175/300\n",
            "50/50 [==============================] - 1s 14ms/step - loss: 0.0229 - accuracy: 0.9907 - val_loss: 0.3631 - val_accuracy: 0.9333\n",
            "Epoch 176/300\n",
            "50/50 [==============================] - 1s 14ms/step - loss: 0.0216 - accuracy: 0.9910 - val_loss: 0.4069 - val_accuracy: 0.9314\n",
            "Epoch 177/300\n",
            "50/50 [==============================] - 1s 14ms/step - loss: 0.0203 - accuracy: 0.9915 - val_loss: 0.4053 - val_accuracy: 0.9328\n",
            "Epoch 178/300\n",
            "50/50 [==============================] - 1s 14ms/step - loss: 0.0209 - accuracy: 0.9911 - val_loss: 0.4225 - val_accuracy: 0.9372\n",
            "Epoch 179/300\n",
            "50/50 [==============================] - 1s 14ms/step - loss: 0.0223 - accuracy: 0.9909 - val_loss: 0.4306 - val_accuracy: 0.9291\n",
            "Epoch 180/300\n",
            "50/50 [==============================] - 1s 14ms/step - loss: 0.0204 - accuracy: 0.9913 - val_loss: 0.4313 - val_accuracy: 0.9330\n",
            "Epoch 181/300\n",
            "50/50 [==============================] - 1s 14ms/step - loss: 0.0207 - accuracy: 0.9912 - val_loss: 0.3178 - val_accuracy: 0.9325\n",
            "Epoch 182/300\n",
            "50/50 [==============================] - 1s 14ms/step - loss: 0.0201 - accuracy: 0.9916 - val_loss: 0.4603 - val_accuracy: 0.9350\n",
            "Epoch 183/300\n",
            "50/50 [==============================] - 1s 14ms/step - loss: 0.0195 - accuracy: 0.9918 - val_loss: 0.3746 - val_accuracy: 0.9316\n",
            "Epoch 184/300\n",
            "50/50 [==============================] - 1s 14ms/step - loss: 0.0195 - accuracy: 0.9919 - val_loss: 0.2950 - val_accuracy: 0.9374\n",
            "Epoch 185/300\n",
            "50/50 [==============================] - 1s 14ms/step - loss: 0.0195 - accuracy: 0.9918 - val_loss: 0.4919 - val_accuracy: 0.9310\n",
            "Epoch 186/300\n",
            "50/50 [==============================] - 1s 14ms/step - loss: 0.0182 - accuracy: 0.9923 - val_loss: 0.4330 - val_accuracy: 0.9332\n",
            "Epoch 187/300\n",
            "50/50 [==============================] - 1s 14ms/step - loss: 0.0181 - accuracy: 0.9922 - val_loss: 0.4331 - val_accuracy: 0.9328\n",
            "Epoch 188/300\n",
            "50/50 [==============================] - 1s 14ms/step - loss: 0.0175 - accuracy: 0.9925 - val_loss: 0.5092 - val_accuracy: 0.9347\n",
            "Epoch 189/300\n",
            "50/50 [==============================] - 1s 14ms/step - loss: 0.0180 - accuracy: 0.9925 - val_loss: 0.5537 - val_accuracy: 0.9297\n",
            "Epoch 190/300\n",
            "50/50 [==============================] - 1s 14ms/step - loss: 0.0172 - accuracy: 0.9927 - val_loss: 0.4633 - val_accuracy: 0.9334\n",
            "Epoch 191/300\n",
            "50/50 [==============================] - 1s 14ms/step - loss: 0.0169 - accuracy: 0.9928 - val_loss: 0.5758 - val_accuracy: 0.9277\n",
            "Epoch 192/300\n",
            "50/50 [==============================] - 1s 14ms/step - loss: 0.0162 - accuracy: 0.9932 - val_loss: 0.5712 - val_accuracy: 0.9325\n",
            "Epoch 193/300\n",
            "50/50 [==============================] - 1s 14ms/step - loss: 0.0164 - accuracy: 0.9930 - val_loss: 0.5473 - val_accuracy: 0.9303\n",
            "Epoch 194/300\n",
            "50/50 [==============================] - 1s 14ms/step - loss: 0.0169 - accuracy: 0.9928 - val_loss: 0.5161 - val_accuracy: 0.9325\n",
            "Epoch 195/300\n",
            "50/50 [==============================] - 1s 14ms/step - loss: 0.0185 - accuracy: 0.9923 - val_loss: 0.6097 - val_accuracy: 0.9290\n",
            "Epoch 196/300\n",
            "50/50 [==============================] - 1s 14ms/step - loss: 0.0171 - accuracy: 0.9928 - val_loss: 0.5443 - val_accuracy: 0.9345\n",
            "Epoch 197/300\n",
            "50/50 [==============================] - 1s 15ms/step - loss: 0.0235 - accuracy: 0.9904 - val_loss: 0.4894 - val_accuracy: 0.9329\n",
            "Epoch 198/300\n",
            "50/50 [==============================] - 1s 14ms/step - loss: 0.0207 - accuracy: 0.9914 - val_loss: 0.4665 - val_accuracy: 0.9334\n",
            "Epoch 199/300\n",
            "50/50 [==============================] - 1s 14ms/step - loss: 0.0210 - accuracy: 0.9912 - val_loss: 0.4333 - val_accuracy: 0.9314\n",
            "Epoch 200/300\n",
            "50/50 [==============================] - 1s 14ms/step - loss: 0.0206 - accuracy: 0.9915 - val_loss: 0.4329 - val_accuracy: 0.9340\n",
            "Epoch 201/300\n",
            "50/50 [==============================] - 1s 14ms/step - loss: 0.0228 - accuracy: 0.9908 - val_loss: 0.4113 - val_accuracy: 0.9286\n",
            "Epoch 202/300\n",
            "50/50 [==============================] - 1s 14ms/step - loss: 0.0231 - accuracy: 0.9907 - val_loss: 0.4099 - val_accuracy: 0.9294\n",
            "Epoch 203/300\n",
            "50/50 [==============================] - 1s 14ms/step - loss: 0.0199 - accuracy: 0.9919 - val_loss: 0.4829 - val_accuracy: 0.9298\n",
            "Epoch 204/300\n",
            "50/50 [==============================] - 1s 14ms/step - loss: 0.0183 - accuracy: 0.9924 - val_loss: 0.4297 - val_accuracy: 0.9359\n",
            "Epoch 205/300\n",
            "50/50 [==============================] - 1s 14ms/step - loss: 0.0189 - accuracy: 0.9922 - val_loss: 0.5238 - val_accuracy: 0.9293\n",
            "Epoch 206/300\n",
            "50/50 [==============================] - 1s 14ms/step - loss: 0.0236 - accuracy: 0.9905 - val_loss: 0.4653 - val_accuracy: 0.9299\n",
            "Epoch 207/300\n",
            "50/50 [==============================] - 1s 14ms/step - loss: 0.0209 - accuracy: 0.9913 - val_loss: 0.4558 - val_accuracy: 0.9296\n",
            "Epoch 208/300\n",
            "50/50 [==============================] - 1s 14ms/step - loss: 0.0251 - accuracy: 0.9899 - val_loss: 0.3294 - val_accuracy: 0.9397\n",
            "Epoch 209/300\n",
            "50/50 [==============================] - 1s 14ms/step - loss: 0.0245 - accuracy: 0.9902 - val_loss: 0.2977 - val_accuracy: 0.9458\n",
            "Epoch 210/300\n",
            "50/50 [==============================] - 1s 14ms/step - loss: 0.0628 - accuracy: 0.9785 - val_loss: 0.4324 - val_accuracy: 0.9129\n",
            "Epoch 211/300\n",
            "50/50 [==============================] - 1s 15ms/step - loss: 0.1082 - accuracy: 0.9616 - val_loss: 0.2056 - val_accuracy: 0.9344\n",
            "Epoch 212/300\n",
            "50/50 [==============================] - 1s 14ms/step - loss: 0.0905 - accuracy: 0.9647 - val_loss: 0.1397 - val_accuracy: 0.9504\n",
            "Epoch 213/300\n",
            "50/50 [==============================] - 1s 14ms/step - loss: 0.1048 - accuracy: 0.9644 - val_loss: 0.1223 - val_accuracy: 0.9446\n",
            "Epoch 214/300\n",
            "50/50 [==============================] - 1s 14ms/step - loss: 0.0513 - accuracy: 0.9795 - val_loss: 0.1627 - val_accuracy: 0.9473\n",
            "Epoch 215/300\n",
            "50/50 [==============================] - 1s 14ms/step - loss: 0.0403 - accuracy: 0.9842 - val_loss: 0.2769 - val_accuracy: 0.9276\n",
            "Epoch 216/300\n",
            "50/50 [==============================] - 1s 14ms/step - loss: 0.0322 - accuracy: 0.9870 - val_loss: 0.3021 - val_accuracy: 0.9258\n",
            "Epoch 217/300\n",
            "50/50 [==============================] - 1s 14ms/step - loss: 0.0277 - accuracy: 0.9886 - val_loss: 0.2835 - val_accuracy: 0.9386\n",
            "Epoch 218/300\n",
            "50/50 [==============================] - 1s 14ms/step - loss: 0.0286 - accuracy: 0.9885 - val_loss: 0.2698 - val_accuracy: 0.9331\n",
            "Epoch 219/300\n",
            "50/50 [==============================] - 1s 14ms/step - loss: 0.0286 - accuracy: 0.9883 - val_loss: 0.3254 - val_accuracy: 0.9391\n",
            "Epoch 220/300\n",
            "50/50 [==============================] - 1s 14ms/step - loss: 0.0246 - accuracy: 0.9898 - val_loss: 0.3147 - val_accuracy: 0.9375\n",
            "Epoch 221/300\n",
            "50/50 [==============================] - 1s 14ms/step - loss: 0.0236 - accuracy: 0.9902 - val_loss: 0.3364 - val_accuracy: 0.9299\n",
            "Epoch 222/300\n",
            "50/50 [==============================] - 1s 14ms/step - loss: 0.0220 - accuracy: 0.9909 - val_loss: 0.3680 - val_accuracy: 0.9345\n",
            "Epoch 223/300\n",
            "50/50 [==============================] - 1s 14ms/step - loss: 0.0210 - accuracy: 0.9913 - val_loss: 0.2831 - val_accuracy: 0.9400\n",
            "Epoch 224/300\n",
            "50/50 [==============================] - 1s 14ms/step - loss: 0.0194 - accuracy: 0.9918 - val_loss: 0.3719 - val_accuracy: 0.9336\n",
            "Epoch 225/300\n",
            "50/50 [==============================] - 1s 15ms/step - loss: 0.0181 - accuracy: 0.9923 - val_loss: 0.3518 - val_accuracy: 0.9359\n",
            "Epoch 226/300\n",
            "50/50 [==============================] - 1s 15ms/step - loss: 0.0172 - accuracy: 0.9928 - val_loss: 0.4509 - val_accuracy: 0.9303\n",
            "Epoch 227/300\n",
            "50/50 [==============================] - 1s 14ms/step - loss: 0.0169 - accuracy: 0.9928 - val_loss: 0.4005 - val_accuracy: 0.9355\n",
            "Epoch 228/300\n",
            "50/50 [==============================] - 1s 14ms/step - loss: 0.0169 - accuracy: 0.9929 - val_loss: 0.4401 - val_accuracy: 0.9306\n",
            "Epoch 229/300\n",
            "50/50 [==============================] - 1s 14ms/step - loss: 0.0170 - accuracy: 0.9928 - val_loss: 0.4454 - val_accuracy: 0.9333\n",
            "Epoch 230/300\n",
            "50/50 [==============================] - 1s 14ms/step - loss: 0.0172 - accuracy: 0.9929 - val_loss: 0.4196 - val_accuracy: 0.9292\n",
            "Epoch 231/300\n",
            "50/50 [==============================] - 1s 15ms/step - loss: 0.0168 - accuracy: 0.9928 - val_loss: 0.4216 - val_accuracy: 0.9330\n",
            "Epoch 232/300\n",
            "50/50 [==============================] - 1s 14ms/step - loss: 0.0165 - accuracy: 0.9930 - val_loss: 0.4153 - val_accuracy: 0.9345\n",
            "Epoch 233/300\n",
            "50/50 [==============================] - 1s 15ms/step - loss: 0.0161 - accuracy: 0.9932 - val_loss: 0.3998 - val_accuracy: 0.9360\n",
            "Epoch 234/300\n",
            "50/50 [==============================] - 1s 15ms/step - loss: 0.0156 - accuracy: 0.9933 - val_loss: 0.5248 - val_accuracy: 0.9251\n",
            "Epoch 235/300\n",
            "50/50 [==============================] - 1s 15ms/step - loss: 0.0158 - accuracy: 0.9933 - val_loss: 0.4824 - val_accuracy: 0.9336\n",
            "Epoch 236/300\n",
            "50/50 [==============================] - 1s 15ms/step - loss: 0.0167 - accuracy: 0.9932 - val_loss: 0.5121 - val_accuracy: 0.9338\n",
            "Epoch 237/300\n",
            "50/50 [==============================] - 1s 14ms/step - loss: 0.0148 - accuracy: 0.9938 - val_loss: 0.5041 - val_accuracy: 0.9335\n",
            "Epoch 238/300\n",
            "50/50 [==============================] - 1s 15ms/step - loss: 0.0152 - accuracy: 0.9936 - val_loss: 0.4033 - val_accuracy: 0.9355\n",
            "Epoch 239/300\n",
            "50/50 [==============================] - 1s 15ms/step - loss: 0.0148 - accuracy: 0.9938 - val_loss: 0.5286 - val_accuracy: 0.9308\n",
            "Epoch 240/300\n",
            "50/50 [==============================] - 1s 15ms/step - loss: 0.0142 - accuracy: 0.9939 - val_loss: 0.5991 - val_accuracy: 0.9300\n",
            "Epoch 241/300\n",
            "50/50 [==============================] - 1s 14ms/step - loss: 0.0144 - accuracy: 0.9940 - val_loss: 0.4920 - val_accuracy: 0.9340\n",
            "Epoch 242/300\n",
            "50/50 [==============================] - 1s 14ms/step - loss: 0.0156 - accuracy: 0.9935 - val_loss: 0.4563 - val_accuracy: 0.9314\n",
            "Epoch 243/300\n",
            "50/50 [==============================] - 1s 14ms/step - loss: 0.0147 - accuracy: 0.9938 - val_loss: 0.4825 - val_accuracy: 0.9304\n",
            "Epoch 244/300\n",
            "50/50 [==============================] - 1s 14ms/step - loss: 0.0140 - accuracy: 0.9940 - val_loss: 0.4714 - val_accuracy: 0.9312\n",
            "Epoch 245/300\n",
            "50/50 [==============================] - 1s 14ms/step - loss: 0.0137 - accuracy: 0.9941 - val_loss: 0.5519 - val_accuracy: 0.9280\n",
            "Epoch 246/300\n",
            "50/50 [==============================] - 1s 15ms/step - loss: 0.0133 - accuracy: 0.9944 - val_loss: 0.5586 - val_accuracy: 0.9293\n",
            "Epoch 247/300\n",
            "50/50 [==============================] - 1s 14ms/step - loss: 0.0125 - accuracy: 0.9947 - val_loss: 0.5627 - val_accuracy: 0.9288\n",
            "Epoch 248/300\n",
            "50/50 [==============================] - 1s 14ms/step - loss: 0.0127 - accuracy: 0.9946 - val_loss: 0.5741 - val_accuracy: 0.9322\n",
            "Epoch 249/300\n",
            "50/50 [==============================] - 1s 14ms/step - loss: 0.0136 - accuracy: 0.9943 - val_loss: 0.5666 - val_accuracy: 0.9299\n",
            "Epoch 250/300\n",
            "50/50 [==============================] - 1s 15ms/step - loss: 0.0138 - accuracy: 0.9942 - val_loss: 0.4711 - val_accuracy: 0.9300\n",
            "Epoch 251/300\n",
            "50/50 [==============================] - 1s 14ms/step - loss: 0.0136 - accuracy: 0.9943 - val_loss: 0.5099 - val_accuracy: 0.9289\n",
            "Epoch 252/300\n",
            "50/50 [==============================] - 1s 14ms/step - loss: 0.0134 - accuracy: 0.9943 - val_loss: 0.5183 - val_accuracy: 0.9314\n",
            "Epoch 253/300\n",
            "50/50 [==============================] - 1s 14ms/step - loss: 0.0136 - accuracy: 0.9944 - val_loss: 0.4582 - val_accuracy: 0.9324\n",
            "Epoch 254/300\n",
            "50/50 [==============================] - 1s 15ms/step - loss: 0.0127 - accuracy: 0.9946 - val_loss: 0.4406 - val_accuracy: 0.9325\n",
            "Epoch 255/300\n",
            "50/50 [==============================] - 1s 14ms/step - loss: 0.0127 - accuracy: 0.9946 - val_loss: 0.3572 - val_accuracy: 0.9330\n",
            "Epoch 256/300\n",
            "50/50 [==============================] - 1s 14ms/step - loss: 0.0129 - accuracy: 0.9944 - val_loss: 0.5334 - val_accuracy: 0.9294\n",
            "Epoch 257/300\n",
            "50/50 [==============================] - 1s 14ms/step - loss: 0.0123 - accuracy: 0.9949 - val_loss: 0.5135 - val_accuracy: 0.9319\n",
            "Epoch 258/300\n",
            "50/50 [==============================] - 1s 14ms/step - loss: 0.0131 - accuracy: 0.9945 - val_loss: 0.5573 - val_accuracy: 0.9305\n",
            "Epoch 259/300\n",
            "50/50 [==============================] - 1s 14ms/step - loss: 0.0132 - accuracy: 0.9946 - val_loss: 0.4800 - val_accuracy: 0.9316\n",
            "Epoch 260/300\n",
            "50/50 [==============================] - 1s 14ms/step - loss: 0.0143 - accuracy: 0.9940 - val_loss: 0.5336 - val_accuracy: 0.9268\n",
            "Epoch 261/300\n",
            "50/50 [==============================] - 1s 15ms/step - loss: 0.0137 - accuracy: 0.9943 - val_loss: 0.5317 - val_accuracy: 0.9265\n",
            "Epoch 262/300\n",
            "50/50 [==============================] - 1s 14ms/step - loss: 0.0124 - accuracy: 0.9948 - val_loss: 0.5758 - val_accuracy: 0.9276\n",
            "Epoch 263/300\n",
            "50/50 [==============================] - 1s 14ms/step - loss: 0.0120 - accuracy: 0.9949 - val_loss: 0.6013 - val_accuracy: 0.9272\n",
            "Epoch 264/300\n",
            "50/50 [==============================] - 1s 15ms/step - loss: 0.0118 - accuracy: 0.9950 - val_loss: 0.5881 - val_accuracy: 0.9308\n",
            "Epoch 265/300\n",
            "50/50 [==============================] - 1s 15ms/step - loss: 0.0119 - accuracy: 0.9950 - val_loss: 0.5958 - val_accuracy: 0.9287\n",
            "Epoch 266/300\n",
            "50/50 [==============================] - 1s 15ms/step - loss: 0.0133 - accuracy: 0.9946 - val_loss: 0.4307 - val_accuracy: 0.9310\n",
            "Epoch 267/300\n",
            "50/50 [==============================] - 1s 15ms/step - loss: 0.0138 - accuracy: 0.9943 - val_loss: 0.6518 - val_accuracy: 0.9307\n",
            "Epoch 268/300\n",
            "50/50 [==============================] - 1s 15ms/step - loss: 0.0127 - accuracy: 0.9946 - val_loss: 0.6667 - val_accuracy: 0.9281\n",
            "Epoch 269/300\n",
            "50/50 [==============================] - 1s 15ms/step - loss: 0.0151 - accuracy: 0.9940 - val_loss: 0.5600 - val_accuracy: 0.9301\n",
            "Epoch 270/300\n",
            "50/50 [==============================] - 1s 15ms/step - loss: 0.0265 - accuracy: 0.9908 - val_loss: 0.1341 - val_accuracy: 0.9514\n",
            "Epoch 271/300\n",
            "50/50 [==============================] - 1s 15ms/step - loss: 0.0684 - accuracy: 0.9767 - val_loss: 0.3306 - val_accuracy: 0.9080\n",
            "Epoch 272/300\n",
            "50/50 [==============================] - 1s 15ms/step - loss: 0.1497 - accuracy: 0.9508 - val_loss: 0.3828 - val_accuracy: 0.8316\n",
            "Epoch 273/300\n",
            "50/50 [==============================] - 1s 15ms/step - loss: 0.1139 - accuracy: 0.9599 - val_loss: 0.1186 - val_accuracy: 0.9526\n",
            "Epoch 274/300\n",
            "50/50 [==============================] - 1s 15ms/step - loss: 0.0686 - accuracy: 0.9750 - val_loss: 0.1914 - val_accuracy: 0.9437\n",
            "Epoch 275/300\n",
            "50/50 [==============================] - 1s 15ms/step - loss: 0.0503 - accuracy: 0.9808 - val_loss: 0.3145 - val_accuracy: 0.9277\n",
            "Epoch 276/300\n",
            "50/50 [==============================] - 1s 15ms/step - loss: 0.0326 - accuracy: 0.9869 - val_loss: 0.3641 - val_accuracy: 0.9307\n",
            "Epoch 277/300\n",
            "50/50 [==============================] - 1s 15ms/step - loss: 0.0274 - accuracy: 0.9887 - val_loss: 0.3387 - val_accuracy: 0.9277\n",
            "Epoch 278/300\n",
            "50/50 [==============================] - 1s 15ms/step - loss: 0.0231 - accuracy: 0.9904 - val_loss: 0.4869 - val_accuracy: 0.9281\n",
            "Epoch 279/300\n",
            "50/50 [==============================] - 1s 15ms/step - loss: 0.0212 - accuracy: 0.9913 - val_loss: 0.5530 - val_accuracy: 0.9268\n",
            "Epoch 280/300\n",
            "50/50 [==============================] - 1s 15ms/step - loss: 0.0202 - accuracy: 0.9917 - val_loss: 0.4868 - val_accuracy: 0.9253\n",
            "Epoch 281/300\n",
            "50/50 [==============================] - 1s 15ms/step - loss: 0.0198 - accuracy: 0.9920 - val_loss: 0.5097 - val_accuracy: 0.9355\n",
            "Epoch 282/300\n",
            "50/50 [==============================] - 1s 15ms/step - loss: 0.0189 - accuracy: 0.9921 - val_loss: 0.5144 - val_accuracy: 0.9330\n",
            "Epoch 283/300\n",
            "50/50 [==============================] - 1s 15ms/step - loss: 0.0180 - accuracy: 0.9925 - val_loss: 0.4130 - val_accuracy: 0.9379\n",
            "Epoch 284/300\n",
            "50/50 [==============================] - 1s 14ms/step - loss: 0.0169 - accuracy: 0.9930 - val_loss: 0.4781 - val_accuracy: 0.9299\n",
            "Epoch 285/300\n",
            "50/50 [==============================] - 1s 15ms/step - loss: 0.0157 - accuracy: 0.9934 - val_loss: 0.3555 - val_accuracy: 0.9391\n",
            "Epoch 286/300\n",
            "50/50 [==============================] - 1s 15ms/step - loss: 0.0160 - accuracy: 0.9934 - val_loss: 0.5484 - val_accuracy: 0.9281\n",
            "Epoch 287/300\n",
            "50/50 [==============================] - 1s 14ms/step - loss: 0.0160 - accuracy: 0.9933 - val_loss: 0.5378 - val_accuracy: 0.9310\n",
            "Epoch 288/300\n",
            "50/50 [==============================] - 1s 15ms/step - loss: 0.0151 - accuracy: 0.9936 - val_loss: 0.5433 - val_accuracy: 0.9262\n",
            "Epoch 289/300\n",
            "50/50 [==============================] - 1s 15ms/step - loss: 0.0149 - accuracy: 0.9938 - val_loss: 0.5284 - val_accuracy: 0.9301\n",
            "Epoch 290/300\n",
            "50/50 [==============================] - 1s 15ms/step - loss: 0.0148 - accuracy: 0.9939 - val_loss: 0.4724 - val_accuracy: 0.9352\n",
            "Epoch 291/300\n",
            "50/50 [==============================] - 1s 14ms/step - loss: 0.0142 - accuracy: 0.9941 - val_loss: 0.5094 - val_accuracy: 0.9323\n",
            "Epoch 292/300\n",
            "50/50 [==============================] - 1s 15ms/step - loss: 0.0158 - accuracy: 0.9935 - val_loss: 0.6140 - val_accuracy: 0.9301\n",
            "Epoch 293/300\n",
            "50/50 [==============================] - 1s 15ms/step - loss: 0.0148 - accuracy: 0.9939 - val_loss: 0.6842 - val_accuracy: 0.9258\n",
            "Epoch 294/300\n",
            "50/50 [==============================] - 1s 15ms/step - loss: 0.0136 - accuracy: 0.9942 - val_loss: 0.7015 - val_accuracy: 0.9260\n",
            "Epoch 295/300\n",
            "50/50 [==============================] - 1s 15ms/step - loss: 0.0144 - accuracy: 0.9940 - val_loss: 0.5809 - val_accuracy: 0.9303\n",
            "Epoch 296/300\n",
            "50/50 [==============================] - 1s 15ms/step - loss: 0.0153 - accuracy: 0.9937 - val_loss: 0.6512 - val_accuracy: 0.9296\n",
            "Epoch 297/300\n",
            "50/50 [==============================] - 1s 15ms/step - loss: 0.0131 - accuracy: 0.9945 - val_loss: 0.6458 - val_accuracy: 0.9256\n",
            "Epoch 298/300\n",
            "50/50 [==============================] - 1s 15ms/step - loss: 0.0134 - accuracy: 0.9945 - val_loss: 0.5577 - val_accuracy: 0.9290\n",
            "Epoch 299/300\n",
            "50/50 [==============================] - 1s 15ms/step - loss: 0.0121 - accuracy: 0.9949 - val_loss: 0.6224 - val_accuracy: 0.9320\n",
            "Epoch 300/300\n",
            "50/50 [==============================] - 1s 15ms/step - loss: 0.0130 - accuracy: 0.9946 - val_loss: 0.6938 - val_accuracy: 0.9289\n"
          ]
        },
        {
          "output_type": "execute_result",
          "data": {
            "text/plain": [
              "<keras.callbacks.History at 0x7f9c600e1810>"
            ]
          },
          "metadata": {},
          "execution_count": 19
        }
      ],
      "source": [
        "# #getting features from images\n",
        "from keras.applications.efficientnet import EfficientNetB4\n",
        "import random as rn\n",
        "import tensorflow as tf\n",
        "import numpy as np\n",
        "from keras import backend as K\n",
        "\n",
        "from keras import applications\n",
        "from keras.applications.efficientnet import EfficientNetB4\n",
        "from keras.models import Sequential\n",
        "from keras.layers import Dense, Dropout, Activation\n",
        "\n",
        "# seed=1   \n",
        "num_cores=1  \n",
        "os.environ['PYTHONHASHSEED'] = '0'                      \n",
        "np.random.seed(seed)\n",
        "rn.seed(seed)\n",
        "tf.random.set_seed(seed)\n",
        "session_conf = tf.compat.v1.ConfigProto(intra_op_parallelism_threads=num_cores,\n",
        "                              inter_op_parallelism_threads=num_cores, \n",
        "                              allow_soft_placement=True,\n",
        "                              device_count = {'CPU' : 1, 'GPU' : 0})\n",
        "sess = tf.compat.v1.Session(graph=tf.compat.v1.get_default_graph(), config=session_conf)\n",
        "K.set_session(sess)\n",
        "# metrics = ['jaccard_index',\n",
        "#            'pixelwise_sensitivity',\n",
        "#            'pixelwise_specificity']\n",
        "\n",
        "# opt = tf.keras.optimizers.SGD(learning_rate=0.001)\n",
        "# model.compile(optimizer=opt, loss=\"binary_crossentropy\",metrics=['accuracy'])\n",
        "# Set hyperparameters of our training model\n",
        "# num_classes = 1\n",
        "# epochs = 30\n",
        "# learning_rate = 1e-4\n",
        "# loss = 'crossentropy' # Function will interpret to use binary crossentropy when num_classes=1\n",
        "\n",
        "seg_model=build_model()\n",
        "seg_model.compile(optimizer='adam', loss='binary_crossentropy', metrics=['accuracy'])\n",
        "# Compile model\n",
        "# compile_model(model, num_classes, metrics, loss, learning_rate)\n",
        "seg_model.fit(trainX,trainY,batch_size=3 ,epochs=300,validation_data=(valX,valY))"
      ]
    },
    {
      "cell_type": "markdown",
      "source": [
        "#test"
      ],
      "metadata": {
        "id": "vi52lh4L_dKS"
      }
    },
    {
      "cell_type": "code",
      "source": [
        "# first_ack\n",
        "\n",
        "img_name=\"PAT_1818_3568_132.png\"\n",
        "image=tf.keras.utils.load_img(\"/content/all_images/\"+img_name,target_size=(IMG_H,IMG_W))\n",
        "input_arr = tf.keras.preprocessing.image.img_to_array(image)\n",
        "input_arr = cv2.cvtColor(input_arr,cv2.COLOR_BGR2RGB)\n",
        "input_arr=np.array(input_arr)\n",
        "input_img=[input_arr/255]\n",
        "# first_ack"
      ],
      "metadata": {
        "id": "Xi7FLa2QQtqZ"
      },
      "execution_count": null,
      "outputs": []
    },
    {
      "cell_type": "code",
      "source": [
        "input_img_tf=tf.convert_to_tensor(input_img)\n",
        "mask_=seg_model.predict(input_img_tf)*255\n",
        "mask_=mask_.squeeze()\n",
        "mask_.reshape(-1)[np.argmax(mask_)]"
      ],
      "metadata": {
        "id": "K3_pXjxuSrkn",
        "colab": {
          "base_uri": "https://localhost:8080/"
        },
        "outputId": "44c73282-bbf8-43b8-ec69-24b89481aecf"
      },
      "execution_count": null,
      "outputs": [
        {
          "output_type": "execute_result",
          "data": {
            "text/plain": [
              "255.0"
            ]
          },
          "metadata": {},
          "execution_count": 21
        }
      ]
    },
    {
      "cell_type": "code",
      "source": [
        "mask_.shape"
      ],
      "metadata": {
        "colab": {
          "base_uri": "https://localhost:8080/"
        },
        "id": "MBDySwNdIE5F",
        "outputId": "500b07b6-7441-4c88-f741-445f31bcba53"
      },
      "execution_count": null,
      "outputs": [
        {
          "output_type": "execute_result",
          "data": {
            "text/plain": [
              "(128, 128)"
            ]
          },
          "metadata": {},
          "execution_count": 22
        }
      ]
    },
    {
      "cell_type": "code",
      "source": [
        "image = cv2.cvtColor(input_img[0], cv2.COLOR_BGR2RGB)\n",
        "\n",
        "plt.imshow(image)"
      ],
      "metadata": {
        "colab": {
          "base_uri": "https://localhost:8080/",
          "height": 285
        },
        "id": "ZxhpqFsqRRYj",
        "outputId": "dfae343e-8be6-48b2-e524-06dc52b1dafb"
      },
      "execution_count": null,
      "outputs": [
        {
          "output_type": "execute_result",
          "data": {
            "text/plain": [
              "<matplotlib.image.AxesImage at 0x7f9bd84878d0>"
            ]
          },
          "metadata": {},
          "execution_count": 23
        },
        {
          "output_type": "display_data",
          "data": {
            "text/plain": [
              "<Figure size 432x288 with 1 Axes>"
            ],
            "image/png": "[encoded data removed]"
          },
          "metadata": {
            "needs_background": "light"
          }
        }
      ]
    },
    {
      "cell_type": "code",
      "source": [
        "mask_[mask_>10]=255\n",
        "mask_[mask_<10]=0"
      ],
      "metadata": {
        "id": "QtaAixQcG5mC"
      },
      "execution_count": null,
      "outputs": []
    },
    {
      "cell_type": "code",
      "source": [
        "# plt.imshow()\n",
        "# mask_[0]=mask_[0]*255\n",
        "plt.imshow(np.squeeze(mask_), cmap=plt.get_cmap('gray'), vmin=0, vmax=255)"
      ],
      "metadata": {
        "colab": {
          "base_uri": "https://localhost:8080/",
          "height": 285
        },
        "id": "k5upDr1vSyOi",
        "outputId": "4e293c1f-a4e9-4f6b-aaac-6c93986c94dd"
      },
      "execution_count": null,
      "outputs": [
        {
          "output_type": "execute_result",
          "data": {
            "text/plain": [
              "<matplotlib.image.AxesImage at 0x7f9bd84a6090>"
            ]
          },
          "metadata": {},
          "execution_count": 25
        },
        {
          "output_type": "display_data",
          "data": {
            "text/plain": [
              "<Figure size 432x288 with 1 Axes>"
            ],
            "image/png": "[encoded data removed]"
          },
          "metadata": {
            "needs_background": "light"
          }
        }
      ]
    },
    {
      "cell_type": "code",
      "source": [
        "res = cv2.bitwise_and(image,image,mask = mask_.astype(np.uint8))"
      ],
      "metadata": {
        "id": "ljbWcXOLEi62"
      },
      "execution_count": null,
      "outputs": []
    },
    {
      "cell_type": "code",
      "source": [
        "plt.imshow(res)"
      ],
      "metadata": {
        "colab": {
          "base_uri": "https://localhost:8080/",
          "height": 285
        },
        "id": "zeDUpU0_KUI0",
        "outputId": "2ea5051e-0cae-4a4c-ada5-d1f84d704797"
      },
      "execution_count": null,
      "outputs": [
        {
          "output_type": "execute_result",
          "data": {
            "text/plain": [
              "<matplotlib.image.AxesImage at 0x7f9bd8412fd0>"
            ]
          },
          "metadata": {},
          "execution_count": 27
        },
        {
          "output_type": "display_data",
          "data": {
            "text/plain": [
              "<Figure size 432x288 with 1 Axes>"
            ],
            "image/png": "[encoded data removed]"
          },
          "metadata": {
            "needs_background": "light"
          }
        }
      ]
    },
    {
      "cell_type": "markdown",
      "source": [
        "#save segmanted images"
      ],
      "metadata": {
        "id": "lWMWtjg_bsmD"
      }
    },
    {
      "cell_type": "code",
      "source": [
        "import os\n",
        "import glob\n",
        "import tensorflow as tf\n",
        "\n",
        "allimgs_path = \"/content/all_images/\"\n",
        "images_paths=sorted(glob.glob(allimgs_path+\"/*\"))\n",
        "\n",
        "result = {}\n",
        "for indx,allimgs_path in enumerate(images_paths):\n",
        "    image=tf.keras.utils.load_img(allimgs_path,target_size=(IMG_H,IMG_W))\n",
        "    input_arr = tf.keras.preprocessing.image.img_to_array(image)\n",
        "    input_arr = cv2.cvtColor(input_arr,cv2.COLOR_BGR2RGB)\n",
        "    input_arr=np.array(input_arr)\n",
        "    input_img=[input_arr/255]\n",
        "\n",
        "    input_img_tf=tf.convert_to_tensor(input_img)\n",
        "    mask_=seg_model.predict(input_img_tf)*255\n",
        "    mask_=mask_.squeeze()*255\n",
        "    mask_[mask_>50]=255\n",
        "    mask_[mask_<50]=0  \n",
        "\n",
        "    image = cv2.cvtColor(input_img[0], cv2.COLOR_BGR2RGB)\n",
        "    res = cv2.bitwise_and(image,image,mask = mask_.astype(np.uint8))\n",
        "    # result.append(np.copy(res))\n",
        "    result[allimgs_path.split('/')[-1]] = res"
      ],
      "metadata": {
        "id": "MFliaabysReA"
      },
      "execution_count": null,
      "outputs": []
    },
    {
      "cell_type": "markdown",
      "source": [
        "#pre-processing"
      ],
      "metadata": {
        "id": "MriVq4rYpEiF"
      }
    },
    {
      "cell_type": "code",
      "source": [
        "for hot in will_be_hot:\n",
        "  if hot==\"img_id\" :\n",
        "    continue\n",
        "  ls=meta[hot].values.tolist()\n",
        "  le = preprocessing.LabelEncoder()\n",
        "  meta[hot] = le.fit_transform(meta[hot]) "
      ],
      "metadata": {
        "id": "5T0VTNqAr1RS"
      },
      "execution_count": null,
      "outputs": []
    },
    {
      "cell_type": "code",
      "source": [
        "# #getting features from images\n",
        "\n",
        "from keras.applications.efficientnet import EfficientNetB4\n",
        "import random as rn\n",
        "import tensorflow as tf\n",
        "import numpy as np\n",
        "from keras import backend as K\n",
        "\n",
        "from keras import applications\n",
        "from keras.applications.efficientnet import EfficientNetB4\n",
        "from keras.models import Sequential\n",
        "from keras.layers import Dense, Dropout, Activation\n",
        "\n",
        "# seed=1   \n",
        "num_cores=1  \n",
        "os.environ['PYTHONHASHSEED'] = '0'                      \n",
        "np.random.seed(seed)\n",
        "rn.seed(seed)\n",
        "tf.random.set_seed(seed)\n",
        "session_conf = tf.compat.v1.ConfigProto(intra_op_parallelism_threads=num_cores,\n",
        "                              inter_op_parallelism_threads=num_cores, \n",
        "                              allow_soft_placement=True,\n",
        "                              device_count = {'CPU' : 1, 'GPU' : 0})\n",
        "sess = tf.compat.v1.Session(graph=tf.compat.v1.get_default_graph(), config=session_conf)\n",
        "K.set_session(sess)\n",
        "\n",
        "#getting features from images\n",
        "model = tf.keras.applications.MobileNetV2(input_shape=(380, 380, 3), include_top=False, weights='imagenet')"
      ],
      "metadata": {
        "id": "lIDJKUQGOI_9",
        "colab": {
          "base_uri": "https://localhost:8080/"
        },
        "outputId": "eaad7dfa-7fda-4294-bf6a-b3b6345ec2ea"
      },
      "execution_count": null,
      "outputs": [
        {
          "output_type": "stream",
          "name": "stdout",
          "text": [
            "WARNING:tensorflow:`input_shape` is undefined or non-square, or `rows` is not in [96, 128, 160, 192, 224]. Weights for input shape (224, 224) will be loaded as the default.\n",
            "Downloading data from https://storage.googleapis.com/tensorflow/keras-applications/mobilenet_v2/mobilenet_v2_weights_tf_dim_ordering_tf_kernels_1.0_224_no_top.h5\n",
            "9412608/9406464 [==============================] - 0s 0us/step\n",
            "9420800/9406464 [==============================] - 0s 0us/step\n"
          ]
        }
      ]
    },
    {
      "cell_type": "code",
      "execution_count": null,
      "metadata": {
        "colab": {
          "base_uri": "https://localhost:8080/"
        },
        "id": "oGmkWL78LLHY",
        "outputId": "3b8632f8-13d5-4e02-9263-88a7328ed9b0"
      },
      "outputs": [
        {
          "output_type": "stream",
          "name": "stderr",
          "text": [
            "/usr/local/lib/python3.7/dist-packages/ipykernel_launcher.py:10: SettingWithCopyWarning: \n",
            "A value is trying to be set on a copy of a slice from a DataFrame\n",
            "\n",
            "See the caveats in the documentation: https://pandas.pydata.org/pandas-docs/stable/user_guide/indexing.html#returning-a-view-versus-a-copy\n",
            "  # Remove the CWD from sys.path while we load stuff.\n"
          ]
        }
      ],
      "source": [
        "for indx,i in enumerate(meta['img_id']):\n",
        "    input_arr = tf.keras.preprocessing.image.img_to_array(result[i])\n",
        "    input_arr = cv2.cvtColor(input_arr,cv2.COLOR_BGR2RGB)\n",
        "    input_arr = cv2.resize(input_arr,(380,380))\n",
        "    input_arr=np.array([input_arr])\n",
        "    input_arr=input_arr/255\n",
        "    features=model.predict(input_arr)\n",
        "    nx, ny,_ = features[0].shape\n",
        "    d2_train_dataset = features[0].reshape(nx*ny*_)\n",
        "    meta['img_id'][indx]=d2_train_dataset"
      ]
    },
    {
      "cell_type": "markdown",
      "source": [
        "#split data"
      ],
      "metadata": {
        "id": "SH4i9YhcJlUR"
      }
    },
    {
      "cell_type": "code",
      "source": [
        "train,test0=train_test_split(meta,test_size=0.2,random_state=seed)\n",
        "valid,test=train_test_split(test0,test_size=0.5,random_state=seed)"
      ],
      "metadata": {
        "id": "CZJ_JBEuTJ3t"
      },
      "execution_count": null,
      "outputs": []
    },
    {
      "cell_type": "code",
      "source": [
        "train['img_id'].shape"
      ],
      "metadata": {
        "id": "5EsQDoWRxS-4",
        "outputId": "a9b8af8f-0376-4caa-959c-140b00e460c1",
        "colab": {
          "base_uri": "https://localhost:8080/"
        }
      },
      "execution_count": null,
      "outputs": [
        {
          "output_type": "execute_result",
          "data": {
            "text/plain": [
              "(1838,)"
            ]
          },
          "metadata": {},
          "execution_count": 33
        }
      ]
    },
    {
      "cell_type": "code",
      "source": [
        "# train['img_id'][train.index[0]].shape\n",
        "imgF=[]\n",
        "for indx in train.index:\n",
        "  imgF.append(train['img_id'][indx])\n",
        "imgF_tst=[]\n",
        "for indx in test.index:\n",
        "  imgF_tst.append(test['img_id'][indx])"
      ],
      "metadata": {
        "id": "HOyoKBD8QE2v"
      },
      "execution_count": null,
      "outputs": []
    },
    {
      "cell_type": "code",
      "source": [
        "imgF_valid=[]\n",
        "for indx in valid.index:\n",
        "  imgF_valid.append(valid['img_id'][indx])"
      ],
      "metadata": {
        "id": "7KC8xBT6EFlt"
      },
      "execution_count": null,
      "outputs": []
    },
    {
      "cell_type": "code",
      "source": [
        "np.array(imgF).shape"
      ],
      "metadata": {
        "colab": {
          "base_uri": "https://localhost:8080/"
        },
        "id": "7k51asXDPKmE",
        "outputId": "33f87490-f38e-4c85-cded-5bbc235f47bb"
      },
      "execution_count": null,
      "outputs": [
        {
          "output_type": "execute_result",
          "data": {
            "text/plain": [
              "(1838, 184320)"
            ]
          },
          "metadata": {},
          "execution_count": 36
        }
      ]
    },
    {
      "cell_type": "code",
      "source": [
        "target=train['diagnostic']\n",
        "x=train.drop(['diagnostic','img_id','background_father'],axis=1)#\n",
        "\n",
        "target_test=test['diagnostic']\n",
        "x_test=test.drop(['diagnostic','img_id','background_father'],axis=1)"
      ],
      "metadata": {
        "id": "7X8uL8L4z0k4"
      },
      "execution_count": null,
      "outputs": []
    },
    {
      "cell_type": "code",
      "source": [
        "target_valid=valid['diagnostic']\n",
        "x_valid=valid.drop(['diagnostic','img_id','background_father'],axis=1)"
      ],
      "metadata": {
        "id": "C7EJ0T3ZETem"
      },
      "execution_count": null,
      "outputs": []
    },
    {
      "cell_type": "code",
      "source": [
        "from sklearn.ensemble import RandomForestClassifier\n",
        "from sklearn.linear_model import LogisticRegression\n",
        "\n",
        "meta_clf = RandomForestClassifier(random_state=seed)\n",
        "img_clf = LogisticRegression(random_state=seed,max_iter=110)\n",
        "img_clf.fit(imgF, target)\n",
        "meta_clf.fit(x, target)"
      ],
      "metadata": {
        "id": "0jbQaWJM3cnn",
        "colab": {
          "base_uri": "https://localhost:8080/"
        },
        "outputId": "93fffe03-68cd-48e2-9425-ab0a1e5cd125"
      },
      "execution_count": null,
      "outputs": [
        {
          "output_type": "stream",
          "name": "stderr",
          "text": [
            "/usr/local/lib/python3.7/dist-packages/sklearn/linear_model/_logistic.py:818: ConvergenceWarning: lbfgs failed to converge (status=1):\n",
            "STOP: TOTAL NO. of ITERATIONS REACHED LIMIT.\n",
            "\n",
            "Increase the number of iterations (max_iter) or scale the data as shown in:\n",
            "    https://scikit-learn.org/stable/modules/preprocessing.html\n",
            "Please also refer to the documentation for alternative solver options:\n",
            "    https://scikit-learn.org/stable/modules/linear_model.html#logistic-regression\n",
            "  extra_warning_msg=_LOGISTIC_SOLVER_CONVERGENCE_MSG,\n"
          ]
        },
        {
          "output_type": "execute_result",
          "data": {
            "text/plain": [
              "RandomForestClassifier(random_state=101)"
            ]
          },
          "metadata": {},
          "execution_count": 39
        }
      ]
    },
    {
      "cell_type": "code",
      "source": [
        "predicted_img_labels = img_clf.predict_proba(imgF_tst)\n",
        "predicted_meta_labels = meta_clf.predict_proba(x_test)"
      ],
      "metadata": {
        "id": "jVn9MWIxVTwo"
      },
      "execution_count": null,
      "outputs": []
    },
    {
      "cell_type": "code",
      "source": [
        "predicted=[]\n",
        "for i in range(len(predicted_img_labels)): \n",
        "  ls=[]\n",
        "  for indx,k in enumerate(predicted_img_labels[i]):\n",
        "    ls.append(.5*k+predicted_meta_labels[i][indx])\n",
        "  predicted.append(np.argmax(np.array(ls)))"
      ],
      "metadata": {
        "id": "MvOK6V41cjGQ"
      },
      "execution_count": null,
      "outputs": []
    },
    {
      "cell_type": "code",
      "source": [
        "# import numpy as np\n",
        "# from sklearn import metrics\n",
        "# import matplotlib.pyplot as plt\n",
        "# from sklearn.preprocessing import LabelBinarizer\n",
        "# import seaborn as sns\n",
        "\n",
        "# def multiclass_roc_auc_score(y_test, y_pred, average=\"macro\"):\n",
        "#         lb = LabelBinarizer()\n",
        "#         lb.fit(y_test)\n",
        "#         y_test = lb.transform(y_test)\n",
        "#         y_pred = lb.transform(y_pred)\n",
        "#         return metrics.roc_auc_score(y_test, y_pred, average=average)\n",
        "import numpy as np\n",
        "from sklearn import metrics\n",
        "import matplotlib.pyplot as plt\n",
        "from sklearn.preprocessing import LabelBinarizer\n",
        "import seaborn as sns\n",
        "\n",
        "def multiclass_roc_auc_score(y_test, y_pred, average=\"macro\"):\n",
        "        lb = LabelBinarizer()\n",
        "        lb.fit(y_test)\n",
        "        y_test = lb.transform(y_test)\n",
        "        y_pred = lb.transform(y_pred)\n",
        "\n",
        "        return  metrics.accuracy_score(y_test,y_pred)\n",
        "        # return metrics.roc_auc_score(y_test, y_pred, average=average)"
      ],
      "metadata": {
        "id": "eRuzKwf8Xcxw"
      },
      "execution_count": null,
      "outputs": []
    },
    {
      "cell_type": "markdown",
      "source": [
        "#meta + image in one model"
      ],
      "metadata": {
        "id": "lErH-F2YZQDe"
      }
    },
    {
      "cell_type": "code",
      "source": [
        "len(predicted_meta_labels)"
      ],
      "metadata": {
        "colab": {
          "base_uri": "https://localhost:8080/"
        },
        "id": "F3TDjDwc6OrY",
        "outputId": "18f3cea1-23a7-4a6d-ffd6-4631ca2adc43"
      },
      "execution_count": null,
      "outputs": [
        {
          "output_type": "execute_result",
          "data": {
            "text/plain": [
              "230"
            ]
          },
          "metadata": {},
          "execution_count": 43
        }
      ]
    },
    {
      "cell_type": "code",
      "source": [
        "predicted_img_labels = img_clf.predict_proba(imgF)\n",
        "predicted_meta_labels = meta_clf.predict_proba(x)"
      ],
      "metadata": {
        "id": "lAG6ck6cCokY"
      },
      "execution_count": null,
      "outputs": []
    },
    {
      "cell_type": "code",
      "source": [
        "predicted_img_labels_tst = img_clf.predict_proba(imgF_tst)\n",
        "predicted_meta_labels_tst = meta_clf.predict_proba(x_test)"
      ],
      "metadata": {
        "id": "pSYE0lZ-DclU"
      },
      "execution_count": null,
      "outputs": []
    },
    {
      "cell_type": "code",
      "source": [
        "predicted_img_labels_valid = img_clf.predict_proba(imgF_valid)\n",
        "predicted_meta_labels_valid = meta_clf.predict_proba(x_valid)"
      ],
      "metadata": {
        "id": "nzImJvPVEhds"
      },
      "execution_count": null,
      "outputs": []
    },
    {
      "cell_type": "code",
      "source": [
        "pre_img=[]\n",
        "for i in predicted_img_labels_tst:\n",
        "  pre_img.append(np.argmax(i))\n",
        "\n",
        "pre_meta=[]\n",
        "for i in predicted_meta_labels_tst:\n",
        "  pre_meta.append(np.argmax(i))"
      ],
      "metadata": {
        "id": "LuCJ8m6riL-B"
      },
      "execution_count": null,
      "outputs": []
    },
    {
      "cell_type": "code",
      "source": [
        "print('img',multiclass_roc_auc_score(pre_img,target_test)*100)\n",
        "print('meta',multiclass_roc_auc_score(pre_meta,target_test)*100)\n",
        "# img 60\n",
        "# meta 85.8"
      ],
      "metadata": {
        "id": "x2pwx5Pt_ZrX",
        "outputId": "99a12202-222b-4423-8f88-a8e694d6728b",
        "colab": {
          "base_uri": "https://localhost:8080/"
        }
      },
      "execution_count": null,
      "outputs": [
        {
          "output_type": "stream",
          "name": "stdout",
          "text": [
            "img 50.8695652173913\n",
            "meta 85.65217391304348\n"
          ]
        }
      ]
    },
    {
      "cell_type": "code",
      "source": [
        "all_x=[]\n",
        "all_im=[]\n",
        "all_y=[]\n",
        "for i in range(len(predicted_meta_labels_valid)):\n",
        "  all_x.append(predicted_meta_labels_valid[i])\n",
        "  all_im.append(predicted_img_labels_valid[i])\n",
        "  all_y.append(target_valid.iloc[i])\n",
        "\n",
        "  \n",
        "  all_x.append(predicted_meta_labels_tst[i])\n",
        "  all_im.append(predicted_img_labels_tst[i])\n",
        "  all_y.append(target_test.iloc[i])"
      ],
      "metadata": {
        "id": "1kti0Ihw4UiN"
      },
      "execution_count": null,
      "outputs": []
    },
    {
      "cell_type": "code",
      "source": [
        "# df = pd.DataFrame(lst)\n",
        "dict = {'meta': all_x, 'image': all_im, 'label': all_y} \n",
        "df = pd.DataFrame(dict)"
      ],
      "metadata": {
        "id": "tbV_QqmwJxZQ"
      },
      "execution_count": null,
      "outputs": []
    },
    {
      "cell_type": "code",
      "source": [
        "df"
      ],
      "metadata": {
        "colab": {
          "base_uri": "https://localhost:8080/",
          "height": 424
        },
        "id": "oeHFFjSfLGnQ",
        "outputId": "c8948075-fc95-44f6-d5f5-ec38a6811527"
      },
      "execution_count": null,
      "outputs": [
        {
          "output_type": "execute_result",
          "data": {
            "text/plain": [
              "                                    meta  \\\n",
              "0         [1.0, 0.0, 0.0, 0.0, 0.0, 0.0]   \n",
              "1       [0.21, 0.0, 0.0, 0.0, 0.0, 0.79]   \n",
              "2         [1.0, 0.0, 0.0, 0.0, 0.0, 0.0]   \n",
              "3      [0.93, 0.0, 0.0, 0.01, 0.0, 0.06]   \n",
              "4      [0.64, 0.19, 0.0, 0.0, 0.17, 0.0]   \n",
              "..                                   ...   \n",
              "455   [0.02, 0.8, 0.0, 0.01, 0.16, 0.01]   \n",
              "456    [0.09, 0.73, 0.0, 0.0, 0.18, 0.0]   \n",
              "457   [0.04, 0.88, 0.0, 0.01, 0.07, 0.0]   \n",
              "458  [0.05, 0.24, 0.2, 0.07, 0.42, 0.02]   \n",
              "459   [0.28, 0.62, 0.0, 0.03, 0.07, 0.0]   \n",
              "\n",
              "                                                 image  label  \n",
              "0    [0.10388553022474833, 0.47777055885421044, 0.0...      0  \n",
              "1    [0.19673791722529016, 0.5416448801906999, 0.02...      5  \n",
              "2    [0.43418109219648526, 0.309038400691277, 0.014...      0  \n",
              "3    [0.20039096542214813, 0.35878246731047164, 0.0...      0  \n",
              "4    [0.174434870681418, 0.5542116738397734, 0.0482...      0  \n",
              "..                                                 ...    ...  \n",
              "455  [0.2176837332230748, 0.4398080994279553, 0.023...      1  \n",
              "456  [0.6450630599705547, 0.24652227863469206, 0.00...      1  \n",
              "457  [0.22475307933879268, 0.45085972399248864, 0.0...      1  \n",
              "458  [0.16903877323390368, 0.5403384018652849, 0.06...      3  \n",
              "459  [0.06195265614516169, 0.6770792960792128, 0.01...      1  \n",
              "\n",
              "[460 rows x 3 columns]"
            ],
            "text/html": [
              "\n",
              "  <div id=\"df-fcfab177-0dd9-4bda-b7a4-f34c4a1d1f3c\">\n",
              "    <div class=\"colab-df-container\">\n",
              "      <div>\n",
              "<style scoped>\n",
              "    .dataframe tbody tr th:only-of-type {\n",
              "        vertical-align: middle;\n",
              "    }\n",
              "\n",
              "    .dataframe tbody tr th {\n",
              "        vertical-align: top;\n",
              "    }\n",
              "\n",
              "    .dataframe thead th {\n",
              "        text-align: right;\n",
              "    }\n",
              "</style>\n",
              "<table border=\"1\" class=\"dataframe\">\n",
              "  <thead>\n",
              "    <tr style=\"text-align: right;\">\n",
              "      <th></th>\n",
              "      <th>meta</th>\n",
              "      <th>image</th>\n",
              "      <th>label</th>\n",
              "    </tr>\n",
              "  </thead>\n",
              "  <tbody>\n",
              "    <tr>\n",
              "      <th>0</th>\n",
              "      <td>[1.0, 0.0, 0.0, 0.0, 0.0, 0.0]</td>\n",
              "      <td>[0.10388553022474833, 0.47777055885421044, 0.0...</td>\n",
              "      <td>0</td>\n",
              "    </tr>\n",
              "    <tr>\n",
              "      <th>1</th>\n",
              "      <td>[0.21, 0.0, 0.0, 0.0, 0.0, 0.79]</td>\n",
              "      <td>[0.19673791722529016, 0.5416448801906999, 0.02...</td>\n",
              "      <td>5</td>\n",
              "    </tr>\n",
              "    <tr>\n",
              "      <th>2</th>\n",
              "      <td>[1.0, 0.0, 0.0, 0.0, 0.0, 0.0]</td>\n",
              "      <td>[0.43418109219648526, 0.309038400691277, 0.014...</td>\n",
              "      <td>0</td>\n",
              "    </tr>\n",
              "    <tr>\n",
              "      <th>3</th>\n",
              "      <td>[0.93, 0.0, 0.0, 0.01, 0.0, 0.06]</td>\n",
              "      <td>[0.20039096542214813, 0.35878246731047164, 0.0...</td>\n",
              "      <td>0</td>\n",
              "    </tr>\n",
              "    <tr>\n",
              "      <th>4</th>\n",
              "      <td>[0.64, 0.19, 0.0, 0.0, 0.17, 0.0]</td>\n",
              "      <td>[0.174434870681418, 0.5542116738397734, 0.0482...</td>\n",
              "      <td>0</td>\n",
              "    </tr>\n",
              "    <tr>\n",
              "      <th>...</th>\n",
              "      <td>...</td>\n",
              "      <td>...</td>\n",
              "      <td>...</td>\n",
              "    </tr>\n",
              "    <tr>\n",
              "      <th>455</th>\n",
              "      <td>[0.02, 0.8, 0.0, 0.01, 0.16, 0.01]</td>\n",
              "      <td>[0.2176837332230748, 0.4398080994279553, 0.023...</td>\n",
              "      <td>1</td>\n",
              "    </tr>\n",
              "    <tr>\n",
              "      <th>456</th>\n",
              "      <td>[0.09, 0.73, 0.0, 0.0, 0.18, 0.0]</td>\n",
              "      <td>[0.6450630599705547, 0.24652227863469206, 0.00...</td>\n",
              "      <td>1</td>\n",
              "    </tr>\n",
              "    <tr>\n",
              "      <th>457</th>\n",
              "      <td>[0.04, 0.88, 0.0, 0.01, 0.07, 0.0]</td>\n",
              "      <td>[0.22475307933879268, 0.45085972399248864, 0.0...</td>\n",
              "      <td>1</td>\n",
              "    </tr>\n",
              "    <tr>\n",
              "      <th>458</th>\n",
              "      <td>[0.05, 0.24, 0.2, 0.07, 0.42, 0.02]</td>\n",
              "      <td>[0.16903877323390368, 0.5403384018652849, 0.06...</td>\n",
              "      <td>3</td>\n",
              "    </tr>\n",
              "    <tr>\n",
              "      <th>459</th>\n",
              "      <td>[0.28, 0.62, 0.0, 0.03, 0.07, 0.0]</td>\n",
              "      <td>[0.06195265614516169, 0.6770792960792128, 0.01...</td>\n",
              "      <td>1</td>\n",
              "    </tr>\n",
              "  </tbody>\n",
              "</table>\n",
              "<p>460 rows × 3 columns</p>\n",
              "</div>\n",
              "      <button class=\"colab-df-convert\" onclick=\"convertToInteractive('df-fcfab177-0dd9-4bda-b7a4-f34c4a1d1f3c')\"\n",
              "              title=\"Convert this dataframe to an interactive table.\"\n",
              "              style=\"display:none;\">\n",
              "        \n",
              "  <svg xmlns=\"http://www.w3.org/2000/svg\" height=\"24px\"viewBox=\"0 0 24 24\"\n",
              "       width=\"24px\">\n",
              "    <path d=\"M0 0h24v24H0V0z\" fill=\"none\"/>\n",
              "    <path d=\"M18.56 5.44l.94 2.06.94-2.06 2.06-.94-2.06-.94-.94-2.06-.94 2.06-2.06.94zm-11 1L8.5 8.5l.94-2.06 2.06-.94-2.06-.94L8.5 2.5l-.94 2.06-2.06.94zm10 10l.94 2.06.94-2.06 2.06-.94-2.06-.94-.94-2.06-.94 2.06-2.06.94z\"/><path d=\"M17.41 7.96l-1.37-1.37c-.4-.4-.92-.59-1.43-.59-.52 0-1.04.2-1.43.59L10.3 9.45l-7.72 7.72c-.78.78-.78 2.05 0 2.83L4 21.41c.39.39.9.59 1.41.59.51 0 1.02-.2 1.41-.59l7.78-7.78 2.81-2.81c.8-.78.8-2.07 0-2.86zM5.41 20L4 18.59l7.72-7.72 1.47 1.35L5.41 20z\"/>\n",
              "  </svg>\n",
              "      </button>\n",
              "      \n",
              "  <style>\n",
              "    .colab-df-container {\n",
              "      display:flex;\n",
              "      flex-wrap:wrap;\n",
              "      gap: 12px;\n",
              "    }\n",
              "\n",
              "    .colab-df-convert {\n",
              "      background-color: #E8F0FE;\n",
              "      border: none;\n",
              "      border-radius: 50%;\n",
              "      cursor: pointer;\n",
              "      display: none;\n",
              "      fill: #1967D2;\n",
              "      height: 32px;\n",
              "      padding: 0 0 0 0;\n",
              "      width: 32px;\n",
              "    }\n",
              "\n",
              "    .colab-df-convert:hover {\n",
              "      background-color: #E2EBFA;\n",
              "      box-shadow: 0px 1px 2px rgba(60, 64, 67, 0.3), 0px 1px 3px 1px rgba(60, 64, 67, 0.15);\n",
              "      fill: #174EA6;\n",
              "    }\n",
              "\n",
              "    [theme=dark] .colab-df-convert {\n",
              "      background-color: #3B4455;\n",
              "      fill: #D2E3FC;\n",
              "    }\n",
              "\n",
              "    [theme=dark] .colab-df-convert:hover {\n",
              "      background-color: #434B5C;\n",
              "      box-shadow: 0px 1px 3px 1px rgba(0, 0, 0, 0.15);\n",
              "      filter: drop-shadow(0px 1px 2px rgba(0, 0, 0, 0.3));\n",
              "      fill: #FFFFFF;\n",
              "    }\n",
              "  </style>\n",
              "\n",
              "      <script>\n",
              "        const buttonEl =\n",
              "          document.querySelector('#df-fcfab177-0dd9-4bda-b7a4-f34c4a1d1f3c button.colab-df-convert');\n",
              "        buttonEl.style.display =\n",
              "          google.colab.kernel.accessAllowed ? 'block' : 'none';\n",
              "\n",
              "        async function convertToInteractive(key) {\n",
              "          const element = document.querySelector('#df-fcfab177-0dd9-4bda-b7a4-f34c4a1d1f3c');\n",
              "          const dataTable =\n",
              "            await google.colab.kernel.invokeFunction('convertToInteractive',\n",
              "                                                     [key], {});\n",
              "          if (!dataTable) return;\n",
              "\n",
              "          const docLinkHtml = 'Like what you see? Visit the ' +\n",
              "            '<a target=\"_blank\" href=https://colab.research.google.com/notebooks/data_table.ipynb>data table notebook</a>'\n",
              "            + ' to learn more about interactive tables.';\n",
              "          element.innerHTML = '';\n",
              "          dataTable['output_type'] = 'display_data';\n",
              "          await google.colab.output.renderOutput(dataTable, element);\n",
              "          const docLink = document.createElement('div');\n",
              "          docLink.innerHTML = docLinkHtml;\n",
              "          element.appendChild(docLink);\n",
              "        }\n",
              "      </script>\n",
              "    </div>\n",
              "  </div>\n",
              "  "
            ]
          },
          "metadata": {},
          "execution_count": 51
        }
      ]
    },
    {
      "cell_type": "code",
      "source": [
        "train,test0=train_test_split(df,test_size=0.2,random_state=seed)\n",
        "test,valid=train_test_split(test0,test_size=0.5,random_state=seed)"
      ],
      "metadata": {
        "id": "0PF-MXQC5PSa"
      },
      "execution_count": null,
      "outputs": []
    },
    {
      "cell_type": "code",
      "source": [
        "x_train=train.drop(['label'],axis=1)\n",
        "y_train=train['label']\n",
        "x_test=test.drop(['label'],axis=1)\n",
        "y_test=test['label']\n",
        "x_valid=valid.drop(['label'],axis=1)\n",
        "y_valid=valid['label']"
      ],
      "metadata": {
        "id": "OulcbS8m4252"
      },
      "execution_count": null,
      "outputs": []
    },
    {
      "cell_type": "code",
      "source": [
        "import os \n",
        "import random as rn\n",
        "import tensorflow as tf\n",
        "import numpy as np\n",
        "from keras import backend as K\n",
        "# seed=1\n",
        "num_cores=1  \n",
        "os.environ['PYTHONHASHSEED'] = '0'                      \n",
        "np.random.seed(seed)\n",
        "rn.seed(seed)\n",
        "tf.random.set_seed(seed)\n",
        "session_conf = tf.compat.v1.ConfigProto(intra_op_parallelism_threads=num_cores,\n",
        "                              inter_op_parallelism_threads=num_cores, \n",
        "                              allow_soft_placement=True,\n",
        "                              device_count = {'CPU' : 1, 'GPU' : 0})\n",
        "sess = tf.compat.v1.Session(graph=tf.compat.v1.get_default_graph(), config=session_conf)\n",
        "K.set_session(sess)\n",
        "\n",
        "from tensorflow import keras\n",
        "from keras import regularizers\n",
        "model_inputs=[]\n",
        "for i in range(2):\n",
        "  model_inputs.append(keras.Input(shape=(6,)))\n",
        "\n",
        "combinedInput = tf.keras.layers.concatenate(model_inputs)\n",
        "# 390\n",
        "x = Dense(1024,activation=\"relu\",\n",
        "          # use_bias=False,\n",
        "          kernel_regularizer=regularizers.L1L2(l1=1e-5, l2=1e-4),\n",
        "          # bias_regularizer=regularizers.L2(1e-4),\n",
        "          # activity_regularizer=regularizers.L2(1e-5)\n",
        "          )(combinedInput)#,activation=\"relu\"\n",
        "# x = Dense(120,activation=\"relu\")(x)#,activation=\"relu\"\n",
        "# x = Dense(256,activation=\"relu\")(x)\n",
        "# x = Dense(128,activation=\"relu\")(x)\n",
        "x=Dropout(.9)(x)\n",
        "# x = Dense(512,activation=\"relu\")(x)\n",
        "\n",
        "# x=Dropout(.5)(x)\n",
        "predictions = Dense(6,activation=\"softmax\",)(x)\n",
        "model = Model(inputs=model_inputs,outputs=predictions)\n",
        "\n",
        "opt= keras.optimizers.Adam(learning_rate=0.0001,epsilon=0.01)\n",
        "model.compile(optimizer=opt,loss=\"sparse_categorical_crossentropy\",metrics=['accuracy'])\n",
        "\n",
        "# test\n",
        "# model.fit([predicted_img_labels_tst,predicted_meta_labels_tst],target_test ,epochs=200,validation_split=.2,batch_size=16)#validation_data=(validList,validDic['diagnostic'])\n",
        "\n",
        "# train\n",
        "# model.fit([predicted_img_labels,predicted_meta_labels],target ,epochs=100,validation_split=.1,batch_size=16)#validation_data=(validList,validDic['diagnostic'])\n",
        "\n",
        "# valid\n",
        "model.fit([np.array(x_train['meta'].tolist()),np.array(x_train['image'].tolist())],y_train ,epochs=200,validation_data=([np.array(x_test['meta'].tolist()),np.array(x_test['image'].tolist())],y_test),batch_size=16)#validation_data=(validList,validDic['diagnostic'])\n",
        "\n",
        "print(\"evaluate\")\n",
        "\n",
        "# valid\n",
        "# model_loss,modelAccuracy = model.evaluate([predicted_img_labels_valid,predicted_meta_labels_valid],target_valid)\n",
        "\n",
        "\n",
        "  # imgF_tst"
      ],
      "metadata": {
        "colab": {
          "base_uri": "https://localhost:8080/"
        },
        "id": "0VPPvREzIWKj",
        "outputId": "8ef5a0ae-5553-4f06-bb13-2a487bf8cfe7"
      },
      "execution_count": null,
      "outputs": [
        {
          "output_type": "stream",
          "name": "stdout",
          "text": [
            "Epoch 1/200\n",
            "23/23 [==============================] - 1s 19ms/step - loss: 1.8096 - accuracy: 0.1549 - val_loss: 1.7974 - val_accuracy: 0.1522\n",
            "Epoch 2/200\n",
            "23/23 [==============================] - 0s 6ms/step - loss: 1.8007 - accuracy: 0.1685 - val_loss: 1.7862 - val_accuracy: 0.2391\n",
            "Epoch 3/200\n",
            "23/23 [==============================] - 0s 7ms/step - loss: 1.7868 - accuracy: 0.1875 - val_loss: 1.7730 - val_accuracy: 0.2609\n",
            "Epoch 4/200\n",
            "23/23 [==============================] - 0s 7ms/step - loss: 1.7703 - accuracy: 0.2473 - val_loss: 1.7591 - val_accuracy: 0.3043\n",
            "Epoch 5/200\n",
            "23/23 [==============================] - 0s 6ms/step - loss: 1.7434 - accuracy: 0.2745 - val_loss: 1.7443 - val_accuracy: 0.4130\n",
            "Epoch 6/200\n",
            "23/23 [==============================] - 0s 7ms/step - loss: 1.7300 - accuracy: 0.3587 - val_loss: 1.7290 - val_accuracy: 0.5652\n",
            "Epoch 7/200\n",
            "23/23 [==============================] - 0s 6ms/step - loss: 1.7098 - accuracy: 0.3614 - val_loss: 1.7134 - val_accuracy: 0.5870\n",
            "Epoch 8/200\n",
            "23/23 [==============================] - 0s 7ms/step - loss: 1.6976 - accuracy: 0.4239 - val_loss: 1.6976 - val_accuracy: 0.5870\n",
            "Epoch 9/200\n",
            "23/23 [==============================] - 0s 6ms/step - loss: 1.6773 - accuracy: 0.4538 - val_loss: 1.6816 - val_accuracy: 0.5870\n",
            "Epoch 10/200\n",
            "23/23 [==============================] - 0s 7ms/step - loss: 1.6595 - accuracy: 0.4783 - val_loss: 1.6653 - val_accuracy: 0.5870\n",
            "Epoch 11/200\n",
            "23/23 [==============================] - 0s 6ms/step - loss: 1.6406 - accuracy: 0.5109 - val_loss: 1.6487 - val_accuracy: 0.5870\n",
            "Epoch 12/200\n",
            "23/23 [==============================] - 0s 6ms/step - loss: 1.6180 - accuracy: 0.5788 - val_loss: 1.6326 - val_accuracy: 0.5870\n",
            "Epoch 13/200\n",
            "23/23 [==============================] - 0s 6ms/step - loss: 1.6105 - accuracy: 0.5489 - val_loss: 1.6156 - val_accuracy: 0.6087\n",
            "Epoch 14/200\n",
            "23/23 [==============================] - 0s 7ms/step - loss: 1.5812 - accuracy: 0.5761 - val_loss: 1.5995 - val_accuracy: 0.6087\n",
            "Epoch 15/200\n",
            "23/23 [==============================] - 0s 6ms/step - loss: 1.5676 - accuracy: 0.6250 - val_loss: 1.5833 - val_accuracy: 0.6087\n",
            "Epoch 16/200\n",
            "23/23 [==============================] - 0s 8ms/step - loss: 1.5378 - accuracy: 0.6332 - val_loss: 1.5670 - val_accuracy: 0.6087\n",
            "Epoch 17/200\n",
            "23/23 [==============================] - 0s 6ms/step - loss: 1.5280 - accuracy: 0.6196 - val_loss: 1.5512 - val_accuracy: 0.6087\n",
            "Epoch 18/200\n",
            "23/23 [==============================] - 0s 4ms/step - loss: 1.5166 - accuracy: 0.6196 - val_loss: 1.5352 - val_accuracy: 0.6087\n",
            "Epoch 19/200\n",
            "23/23 [==============================] - 0s 5ms/step - loss: 1.4872 - accuracy: 0.6712 - val_loss: 1.5198 - val_accuracy: 0.6087\n",
            "Epoch 20/200\n",
            "23/23 [==============================] - 0s 4ms/step - loss: 1.4762 - accuracy: 0.6549 - val_loss: 1.5042 - val_accuracy: 0.6087\n",
            "Epoch 21/200\n",
            "23/23 [==============================] - 0s 4ms/step - loss: 1.4558 - accuracy: 0.6576 - val_loss: 1.4892 - val_accuracy: 0.6087\n",
            "Epoch 22/200\n",
            "23/23 [==============================] - 0s 5ms/step - loss: 1.4316 - accuracy: 0.6576 - val_loss: 1.4742 - val_accuracy: 0.6087\n",
            "Epoch 23/200\n",
            "23/23 [==============================] - 0s 4ms/step - loss: 1.4268 - accuracy: 0.6603 - val_loss: 1.4590 - val_accuracy: 0.6087\n",
            "Epoch 24/200\n",
            "23/23 [==============================] - 0s 4ms/step - loss: 1.3913 - accuracy: 0.6739 - val_loss: 1.4445 - val_accuracy: 0.6087\n",
            "Epoch 25/200\n",
            "23/23 [==============================] - 0s 4ms/step - loss: 1.3852 - accuracy: 0.6576 - val_loss: 1.4299 - val_accuracy: 0.6087\n",
            "Epoch 26/200\n",
            "23/23 [==============================] - 0s 4ms/step - loss: 1.3753 - accuracy: 0.6549 - val_loss: 1.4159 - val_accuracy: 0.6087\n",
            "Epoch 27/200\n",
            "23/23 [==============================] - 0s 4ms/step - loss: 1.3431 - accuracy: 0.6902 - val_loss: 1.4019 - val_accuracy: 0.6087\n",
            "Epoch 28/200\n",
            "23/23 [==============================] - 0s 5ms/step - loss: 1.3422 - accuracy: 0.6576 - val_loss: 1.3881 - val_accuracy: 0.6087\n",
            "Epoch 29/200\n",
            "23/23 [==============================] - 0s 4ms/step - loss: 1.3195 - accuracy: 0.6630 - val_loss: 1.3752 - val_accuracy: 0.6087\n",
            "Epoch 30/200\n",
            "23/23 [==============================] - 0s 4ms/step - loss: 1.3177 - accuracy: 0.6603 - val_loss: 1.3625 - val_accuracy: 0.6087\n",
            "Epoch 31/200\n",
            "23/23 [==============================] - 0s 4ms/step - loss: 1.2905 - accuracy: 0.6712 - val_loss: 1.3499 - val_accuracy: 0.6087\n",
            "Epoch 32/200\n",
            "23/23 [==============================] - 0s 4ms/step - loss: 1.2778 - accuracy: 0.6658 - val_loss: 1.3373 - val_accuracy: 0.6087\n",
            "Epoch 33/200\n",
            "23/23 [==============================] - 0s 4ms/step - loss: 1.2542 - accuracy: 0.6766 - val_loss: 1.3254 - val_accuracy: 0.6087\n",
            "Epoch 34/200\n",
            "23/23 [==============================] - 0s 4ms/step - loss: 1.2532 - accuracy: 0.6766 - val_loss: 1.3135 - val_accuracy: 0.6087\n",
            "Epoch 35/200\n",
            "23/23 [==============================] - 0s 5ms/step - loss: 1.2329 - accuracy: 0.6658 - val_loss: 1.3021 - val_accuracy: 0.6087\n",
            "Epoch 36/200\n",
            "23/23 [==============================] - 0s 5ms/step - loss: 1.2352 - accuracy: 0.6685 - val_loss: 1.2912 - val_accuracy: 0.6087\n",
            "Epoch 37/200\n",
            "23/23 [==============================] - 0s 4ms/step - loss: 1.2123 - accuracy: 0.6766 - val_loss: 1.2799 - val_accuracy: 0.6087\n",
            "Epoch 38/200\n",
            "23/23 [==============================] - 0s 4ms/step - loss: 1.1945 - accuracy: 0.6821 - val_loss: 1.2692 - val_accuracy: 0.6087\n",
            "Epoch 39/200\n",
            "23/23 [==============================] - 0s 4ms/step - loss: 1.1760 - accuracy: 0.6793 - val_loss: 1.2584 - val_accuracy: 0.6087\n",
            "Epoch 40/200\n",
            "23/23 [==============================] - 0s 5ms/step - loss: 1.1845 - accuracy: 0.6848 - val_loss: 1.2485 - val_accuracy: 0.6087\n",
            "Epoch 41/200\n",
            "23/23 [==============================] - 0s 5ms/step - loss: 1.1555 - accuracy: 0.6875 - val_loss: 1.2385 - val_accuracy: 0.6087\n",
            "Epoch 42/200\n",
            "23/23 [==============================] - 0s 4ms/step - loss: 1.1638 - accuracy: 0.6793 - val_loss: 1.2290 - val_accuracy: 0.6087\n",
            "Epoch 43/200\n",
            "23/23 [==============================] - 0s 4ms/step - loss: 1.1209 - accuracy: 0.6875 - val_loss: 1.2193 - val_accuracy: 0.6087\n",
            "Epoch 44/200\n",
            "23/23 [==============================] - 0s 5ms/step - loss: 1.1459 - accuracy: 0.6766 - val_loss: 1.2100 - val_accuracy: 0.6087\n",
            "Epoch 45/200\n",
            "23/23 [==============================] - 0s 4ms/step - loss: 1.1068 - accuracy: 0.6712 - val_loss: 1.2010 - val_accuracy: 0.6087\n",
            "Epoch 46/200\n",
            "23/23 [==============================] - 0s 4ms/step - loss: 1.1091 - accuracy: 0.6848 - val_loss: 1.1924 - val_accuracy: 0.6087\n",
            "Epoch 47/200\n",
            "23/23 [==============================] - 0s 4ms/step - loss: 1.1098 - accuracy: 0.6739 - val_loss: 1.1839 - val_accuracy: 0.6087\n",
            "Epoch 48/200\n",
            "23/23 [==============================] - 0s 4ms/step - loss: 1.1008 - accuracy: 0.6739 - val_loss: 1.1754 - val_accuracy: 0.6087\n",
            "Epoch 49/200\n",
            "23/23 [==============================] - 0s 5ms/step - loss: 1.0768 - accuracy: 0.6821 - val_loss: 1.1676 - val_accuracy: 0.6087\n",
            "Epoch 50/200\n",
            "23/23 [==============================] - 0s 4ms/step - loss: 1.0884 - accuracy: 0.6902 - val_loss: 1.1596 - val_accuracy: 0.6087\n",
            "Epoch 51/200\n",
            "23/23 [==============================] - 0s 5ms/step - loss: 1.0617 - accuracy: 0.6712 - val_loss: 1.1519 - val_accuracy: 0.6087\n",
            "Epoch 52/200\n",
            "23/23 [==============================] - 0s 4ms/step - loss: 1.0674 - accuracy: 0.6766 - val_loss: 1.1444 - val_accuracy: 0.6087\n",
            "Epoch 53/200\n",
            "23/23 [==============================] - 0s 4ms/step - loss: 1.0528 - accuracy: 0.6848 - val_loss: 1.1368 - val_accuracy: 0.6087\n",
            "Epoch 54/200\n",
            "23/23 [==============================] - 0s 5ms/step - loss: 1.0610 - accuracy: 0.6766 - val_loss: 1.1298 - val_accuracy: 0.6087\n",
            "Epoch 55/200\n",
            "23/23 [==============================] - 0s 5ms/step - loss: 1.0284 - accuracy: 0.6875 - val_loss: 1.1227 - val_accuracy: 0.6087\n",
            "Epoch 56/200\n",
            "23/23 [==============================] - 0s 5ms/step - loss: 1.0240 - accuracy: 0.6902 - val_loss: 1.1153 - val_accuracy: 0.6087\n",
            "Epoch 57/200\n",
            "23/23 [==============================] - 0s 4ms/step - loss: 1.0149 - accuracy: 0.6929 - val_loss: 1.1087 - val_accuracy: 0.6087\n",
            "Epoch 58/200\n",
            "23/23 [==============================] - 0s 4ms/step - loss: 1.0139 - accuracy: 0.6875 - val_loss: 1.1019 - val_accuracy: 0.6087\n",
            "Epoch 59/200\n",
            "23/23 [==============================] - 0s 4ms/step - loss: 1.0085 - accuracy: 0.6929 - val_loss: 1.0956 - val_accuracy: 0.6087\n",
            "Epoch 60/200\n",
            "23/23 [==============================] - 0s 4ms/step - loss: 1.0078 - accuracy: 0.6902 - val_loss: 1.0889 - val_accuracy: 0.6087\n",
            "Epoch 61/200\n",
            "23/23 [==============================] - 0s 4ms/step - loss: 1.0093 - accuracy: 0.6821 - val_loss: 1.0826 - val_accuracy: 0.6087\n",
            "Epoch 62/200\n",
            "23/23 [==============================] - 0s 4ms/step - loss: 0.9813 - accuracy: 0.6984 - val_loss: 1.0764 - val_accuracy: 0.6087\n",
            "Epoch 63/200\n",
            "23/23 [==============================] - 0s 5ms/step - loss: 0.9880 - accuracy: 0.6902 - val_loss: 1.0698 - val_accuracy: 0.6087\n",
            "Epoch 64/200\n",
            "23/23 [==============================] - 0s 4ms/step - loss: 0.9786 - accuracy: 0.6984 - val_loss: 1.0638 - val_accuracy: 0.6087\n",
            "Epoch 65/200\n",
            "23/23 [==============================] - 0s 4ms/step - loss: 0.9554 - accuracy: 0.7120 - val_loss: 1.0579 - val_accuracy: 0.6087\n",
            "Epoch 66/200\n",
            "23/23 [==============================] - 0s 4ms/step - loss: 0.9670 - accuracy: 0.7092 - val_loss: 1.0524 - val_accuracy: 0.6304\n",
            "Epoch 67/200\n",
            "23/23 [==============================] - 0s 4ms/step - loss: 0.9764 - accuracy: 0.6929 - val_loss: 1.0466 - val_accuracy: 0.6304\n",
            "Epoch 68/200\n",
            "23/23 [==============================] - 0s 4ms/step - loss: 0.9445 - accuracy: 0.6875 - val_loss: 1.0406 - val_accuracy: 0.6304\n",
            "Epoch 69/200\n",
            "23/23 [==============================] - 0s 5ms/step - loss: 0.9535 - accuracy: 0.7147 - val_loss: 1.0352 - val_accuracy: 0.6304\n",
            "Epoch 70/200\n",
            "23/23 [==============================] - 0s 4ms/step - loss: 0.9241 - accuracy: 0.6957 - val_loss: 1.0299 - val_accuracy: 0.6304\n",
            "Epoch 71/200\n",
            "23/23 [==============================] - 0s 4ms/step - loss: 0.9256 - accuracy: 0.7092 - val_loss: 1.0243 - val_accuracy: 0.6739\n",
            "Epoch 72/200\n",
            "23/23 [==============================] - 0s 4ms/step - loss: 0.9379 - accuracy: 0.7092 - val_loss: 1.0188 - val_accuracy: 0.6522\n",
            "Epoch 73/200\n",
            "23/23 [==============================] - 0s 4ms/step - loss: 0.9267 - accuracy: 0.7092 - val_loss: 1.0133 - val_accuracy: 0.6739\n",
            "Epoch 74/200\n",
            "23/23 [==============================] - 0s 4ms/step - loss: 0.9179 - accuracy: 0.7147 - val_loss: 1.0087 - val_accuracy: 0.6739\n",
            "Epoch 75/200\n",
            "23/23 [==============================] - 0s 4ms/step - loss: 0.9184 - accuracy: 0.6957 - val_loss: 1.0035 - val_accuracy: 0.6739\n",
            "Epoch 76/200\n",
            "23/23 [==============================] - 0s 5ms/step - loss: 0.9059 - accuracy: 0.7310 - val_loss: 0.9983 - val_accuracy: 0.6957\n",
            "Epoch 77/200\n",
            "23/23 [==============================] - 0s 5ms/step - loss: 0.8924 - accuracy: 0.7283 - val_loss: 0.9933 - val_accuracy: 0.6957\n",
            "Epoch 78/200\n",
            "23/23 [==============================] - 0s 4ms/step - loss: 0.8887 - accuracy: 0.7364 - val_loss: 0.9883 - val_accuracy: 0.6957\n",
            "Epoch 79/200\n",
            "23/23 [==============================] - 0s 4ms/step - loss: 0.8944 - accuracy: 0.7228 - val_loss: 0.9833 - val_accuracy: 0.6957\n",
            "Epoch 80/200\n",
            "23/23 [==============================] - 0s 4ms/step - loss: 0.8830 - accuracy: 0.7364 - val_loss: 0.9785 - val_accuracy: 0.6957\n",
            "Epoch 81/200\n",
            "23/23 [==============================] - 0s 4ms/step - loss: 0.8651 - accuracy: 0.7120 - val_loss: 0.9738 - val_accuracy: 0.7174\n",
            "Epoch 82/200\n",
            "23/23 [==============================] - 0s 4ms/step - loss: 0.8698 - accuracy: 0.7473 - val_loss: 0.9686 - val_accuracy: 0.7174\n",
            "Epoch 83/200\n",
            "23/23 [==============================] - 0s 5ms/step - loss: 0.8737 - accuracy: 0.7255 - val_loss: 0.9639 - val_accuracy: 0.7174\n",
            "Epoch 84/200\n",
            "23/23 [==============================] - 0s 5ms/step - loss: 0.8775 - accuracy: 0.7174 - val_loss: 0.9596 - val_accuracy: 0.7174\n",
            "Epoch 85/200\n",
            "23/23 [==============================] - 0s 4ms/step - loss: 0.8584 - accuracy: 0.7147 - val_loss: 0.9550 - val_accuracy: 0.7174\n",
            "Epoch 86/200\n",
            "23/23 [==============================] - 0s 5ms/step - loss: 0.8591 - accuracy: 0.7473 - val_loss: 0.9513 - val_accuracy: 0.7174\n",
            "Epoch 87/200\n",
            "23/23 [==============================] - 0s 5ms/step - loss: 0.8605 - accuracy: 0.7283 - val_loss: 0.9470 - val_accuracy: 0.7174\n",
            "Epoch 88/200\n",
            "23/23 [==============================] - 0s 4ms/step - loss: 0.8631 - accuracy: 0.7418 - val_loss: 0.9421 - val_accuracy: 0.7174\n",
            "Epoch 89/200\n",
            "23/23 [==============================] - 0s 4ms/step - loss: 0.8416 - accuracy: 0.7473 - val_loss: 0.9374 - val_accuracy: 0.7174\n",
            "Epoch 90/200\n",
            "23/23 [==============================] - 0s 5ms/step - loss: 0.8558 - accuracy: 0.7418 - val_loss: 0.9332 - val_accuracy: 0.7174\n",
            "Epoch 91/200\n",
            "23/23 [==============================] - 0s 4ms/step - loss: 0.8334 - accuracy: 0.7636 - val_loss: 0.9290 - val_accuracy: 0.7174\n",
            "Epoch 92/200\n",
            "23/23 [==============================] - 0s 4ms/step - loss: 0.8475 - accuracy: 0.7500 - val_loss: 0.9253 - val_accuracy: 0.7174\n",
            "Epoch 93/200\n",
            "23/23 [==============================] - 0s 5ms/step - loss: 0.8513 - accuracy: 0.7418 - val_loss: 0.9210 - val_accuracy: 0.6957\n",
            "Epoch 94/200\n",
            "23/23 [==============================] - 0s 4ms/step - loss: 0.8471 - accuracy: 0.7446 - val_loss: 0.9169 - val_accuracy: 0.6957\n",
            "Epoch 95/200\n",
            "23/23 [==============================] - 0s 4ms/step - loss: 0.8248 - accuracy: 0.7364 - val_loss: 0.9129 - val_accuracy: 0.7174\n",
            "Epoch 96/200\n",
            "23/23 [==============================] - 0s 4ms/step - loss: 0.8480 - accuracy: 0.7446 - val_loss: 0.9093 - val_accuracy: 0.7174\n",
            "Epoch 97/200\n",
            "23/23 [==============================] - 0s 4ms/step - loss: 0.8213 - accuracy: 0.7609 - val_loss: 0.9053 - val_accuracy: 0.7391\n",
            "Epoch 98/200\n",
            "23/23 [==============================] - 0s 5ms/step - loss: 0.8137 - accuracy: 0.7609 - val_loss: 0.9012 - val_accuracy: 0.7391\n",
            "Epoch 99/200\n",
            "23/23 [==============================] - 0s 4ms/step - loss: 0.8113 - accuracy: 0.7745 - val_loss: 0.8977 - val_accuracy: 0.7391\n",
            "Epoch 100/200\n",
            "23/23 [==============================] - 0s 4ms/step - loss: 0.8101 - accuracy: 0.7582 - val_loss: 0.8942 - val_accuracy: 0.7391\n",
            "Epoch 101/200\n",
            "23/23 [==============================] - 0s 5ms/step - loss: 0.8122 - accuracy: 0.7582 - val_loss: 0.8904 - val_accuracy: 0.7391\n",
            "Epoch 102/200\n",
            "23/23 [==============================] - 0s 4ms/step - loss: 0.8064 - accuracy: 0.7717 - val_loss: 0.8869 - val_accuracy: 0.7391\n",
            "Epoch 103/200\n",
            "23/23 [==============================] - 0s 4ms/step - loss: 0.8111 - accuracy: 0.7745 - val_loss: 0.8834 - val_accuracy: 0.7391\n",
            "Epoch 104/200\n",
            "23/23 [==============================] - 0s 5ms/step - loss: 0.7970 - accuracy: 0.7500 - val_loss: 0.8800 - val_accuracy: 0.7391\n",
            "Epoch 105/200\n",
            "23/23 [==============================] - 0s 5ms/step - loss: 0.7885 - accuracy: 0.7745 - val_loss: 0.8767 - val_accuracy: 0.7391\n",
            "Epoch 106/200\n",
            "23/23 [==============================] - 0s 4ms/step - loss: 0.7801 - accuracy: 0.7799 - val_loss: 0.8734 - val_accuracy: 0.7391\n",
            "Epoch 107/200\n",
            "23/23 [==============================] - 0s 4ms/step - loss: 0.7925 - accuracy: 0.7663 - val_loss: 0.8701 - val_accuracy: 0.7391\n",
            "Epoch 108/200\n",
            "23/23 [==============================] - 0s 4ms/step - loss: 0.7951 - accuracy: 0.7772 - val_loss: 0.8668 - val_accuracy: 0.7391\n",
            "Epoch 109/200\n",
            "23/23 [==============================] - 0s 4ms/step - loss: 0.7947 - accuracy: 0.7636 - val_loss: 0.8636 - val_accuracy: 0.7391\n",
            "Epoch 110/200\n",
            "23/23 [==============================] - 0s 4ms/step - loss: 0.7880 - accuracy: 0.7772 - val_loss: 0.8600 - val_accuracy: 0.7391\n",
            "Epoch 111/200\n",
            "23/23 [==============================] - 0s 4ms/step - loss: 0.7720 - accuracy: 0.7799 - val_loss: 0.8569 - val_accuracy: 0.7391\n",
            "Epoch 112/200\n",
            "23/23 [==============================] - 0s 5ms/step - loss: 0.7492 - accuracy: 0.7826 - val_loss: 0.8538 - val_accuracy: 0.7391\n",
            "Epoch 113/200\n",
            "23/23 [==============================] - 0s 4ms/step - loss: 0.7740 - accuracy: 0.7908 - val_loss: 0.8505 - val_accuracy: 0.7391\n",
            "Epoch 114/200\n",
            "23/23 [==============================] - 0s 4ms/step - loss: 0.7715 - accuracy: 0.7745 - val_loss: 0.8475 - val_accuracy: 0.7391\n",
            "Epoch 115/200\n",
            "23/23 [==============================] - 0s 4ms/step - loss: 0.7578 - accuracy: 0.7772 - val_loss: 0.8445 - val_accuracy: 0.7391\n",
            "Epoch 116/200\n",
            "23/23 [==============================] - 0s 4ms/step - loss: 0.7741 - accuracy: 0.7745 - val_loss: 0.8419 - val_accuracy: 0.7391\n",
            "Epoch 117/200\n",
            "23/23 [==============================] - 0s 4ms/step - loss: 0.7551 - accuracy: 0.7853 - val_loss: 0.8389 - val_accuracy: 0.7391\n",
            "Epoch 118/200\n",
            "23/23 [==============================] - 0s 4ms/step - loss: 0.7561 - accuracy: 0.7717 - val_loss: 0.8359 - val_accuracy: 0.7391\n",
            "Epoch 119/200\n",
            "23/23 [==============================] - 0s 4ms/step - loss: 0.7733 - accuracy: 0.7745 - val_loss: 0.8328 - val_accuracy: 0.7391\n",
            "Epoch 120/200\n",
            "23/23 [==============================] - 0s 5ms/step - loss: 0.7373 - accuracy: 0.7880 - val_loss: 0.8301 - val_accuracy: 0.7391\n",
            "Epoch 121/200\n",
            "23/23 [==============================] - 0s 4ms/step - loss: 0.7643 - accuracy: 0.7826 - val_loss: 0.8271 - val_accuracy: 0.7391\n",
            "Epoch 122/200\n",
            "23/23 [==============================] - 0s 5ms/step - loss: 0.7515 - accuracy: 0.7853 - val_loss: 0.8244 - val_accuracy: 0.7391\n",
            "Epoch 123/200\n",
            "23/23 [==============================] - 0s 4ms/step - loss: 0.7477 - accuracy: 0.7663 - val_loss: 0.8217 - val_accuracy: 0.7391\n",
            "Epoch 124/200\n",
            "23/23 [==============================] - 0s 4ms/step - loss: 0.7315 - accuracy: 0.7908 - val_loss: 0.8188 - val_accuracy: 0.7391\n",
            "Epoch 125/200\n",
            "23/23 [==============================] - 0s 5ms/step - loss: 0.7594 - accuracy: 0.7826 - val_loss: 0.8163 - val_accuracy: 0.7391\n",
            "Epoch 126/200\n",
            "23/23 [==============================] - 0s 4ms/step - loss: 0.7439 - accuracy: 0.7935 - val_loss: 0.8137 - val_accuracy: 0.7391\n",
            "Epoch 127/200\n",
            "23/23 [==============================] - 0s 4ms/step - loss: 0.7310 - accuracy: 0.7962 - val_loss: 0.8110 - val_accuracy: 0.7391\n",
            "Epoch 128/200\n",
            "23/23 [==============================] - 0s 4ms/step - loss: 0.7341 - accuracy: 0.7989 - val_loss: 0.8083 - val_accuracy: 0.7391\n",
            "Epoch 129/200\n",
            "23/23 [==============================] - 0s 4ms/step - loss: 0.7377 - accuracy: 0.7772 - val_loss: 0.8058 - val_accuracy: 0.7391\n",
            "Epoch 130/200\n",
            "23/23 [==============================] - 0s 4ms/step - loss: 0.7184 - accuracy: 0.7962 - val_loss: 0.8037 - val_accuracy: 0.7391\n",
            "Epoch 131/200\n",
            "23/23 [==============================] - 0s 5ms/step - loss: 0.7416 - accuracy: 0.7935 - val_loss: 0.8016 - val_accuracy: 0.7391\n",
            "Epoch 132/200\n",
            "23/23 [==============================] - 0s 5ms/step - loss: 0.7055 - accuracy: 0.7962 - val_loss: 0.7992 - val_accuracy: 0.7391\n",
            "Epoch 133/200\n",
            "23/23 [==============================] - 0s 5ms/step - loss: 0.7305 - accuracy: 0.7853 - val_loss: 0.7970 - val_accuracy: 0.7391\n",
            "Epoch 134/200\n",
            "23/23 [==============================] - 0s 4ms/step - loss: 0.7249 - accuracy: 0.7853 - val_loss: 0.7947 - val_accuracy: 0.7609\n",
            "Epoch 135/200\n",
            "23/23 [==============================] - 0s 5ms/step - loss: 0.7201 - accuracy: 0.8016 - val_loss: 0.7925 - val_accuracy: 0.7609\n",
            "Epoch 136/200\n",
            "23/23 [==============================] - 0s 4ms/step - loss: 0.7175 - accuracy: 0.7908 - val_loss: 0.7903 - val_accuracy: 0.7609\n",
            "Epoch 137/200\n",
            "23/23 [==============================] - 0s 5ms/step - loss: 0.7170 - accuracy: 0.8043 - val_loss: 0.7882 - val_accuracy: 0.7609\n",
            "Epoch 138/200\n",
            "23/23 [==============================] - 0s 4ms/step - loss: 0.7195 - accuracy: 0.7908 - val_loss: 0.7860 - val_accuracy: 0.7609\n",
            "Epoch 139/200\n",
            "23/23 [==============================] - 0s 4ms/step - loss: 0.7042 - accuracy: 0.7962 - val_loss: 0.7838 - val_accuracy: 0.7609\n",
            "Epoch 140/200\n",
            "23/23 [==============================] - 0s 5ms/step - loss: 0.7036 - accuracy: 0.8071 - val_loss: 0.7815 - val_accuracy: 0.7609\n",
            "Epoch 141/200\n",
            "23/23 [==============================] - 0s 4ms/step - loss: 0.6939 - accuracy: 0.8043 - val_loss: 0.7796 - val_accuracy: 0.7609\n",
            "Epoch 142/200\n",
            "23/23 [==============================] - 0s 5ms/step - loss: 0.6996 - accuracy: 0.7880 - val_loss: 0.7771 - val_accuracy: 0.7609\n",
            "Epoch 143/200\n",
            "23/23 [==============================] - 0s 4ms/step - loss: 0.7057 - accuracy: 0.7799 - val_loss: 0.7752 - val_accuracy: 0.7609\n",
            "Epoch 144/200\n",
            "23/23 [==============================] - 0s 4ms/step - loss: 0.7033 - accuracy: 0.7989 - val_loss: 0.7731 - val_accuracy: 0.7826\n",
            "Epoch 145/200\n",
            "23/23 [==============================] - 0s 4ms/step - loss: 0.7129 - accuracy: 0.8071 - val_loss: 0.7713 - val_accuracy: 0.7826\n",
            "Epoch 146/200\n",
            "23/23 [==============================] - 0s 4ms/step - loss: 0.7068 - accuracy: 0.7962 - val_loss: 0.7695 - val_accuracy: 0.7826\n",
            "Epoch 147/200\n",
            "23/23 [==============================] - 0s 5ms/step - loss: 0.6961 - accuracy: 0.7962 - val_loss: 0.7676 - val_accuracy: 0.7826\n",
            "Epoch 148/200\n",
            "23/23 [==============================] - 0s 4ms/step - loss: 0.7128 - accuracy: 0.7853 - val_loss: 0.7657 - val_accuracy: 0.7826\n",
            "Epoch 149/200\n",
            "23/23 [==============================] - 0s 4ms/step - loss: 0.6821 - accuracy: 0.8016 - val_loss: 0.7639 - val_accuracy: 0.7826\n",
            "Epoch 150/200\n",
            "23/23 [==============================] - 0s 5ms/step - loss: 0.6787 - accuracy: 0.7935 - val_loss: 0.7618 - val_accuracy: 0.7826\n",
            "Epoch 151/200\n",
            "23/23 [==============================] - 0s 5ms/step - loss: 0.6909 - accuracy: 0.7989 - val_loss: 0.7599 - val_accuracy: 0.7826\n",
            "Epoch 152/200\n",
            "23/23 [==============================] - 0s 4ms/step - loss: 0.7034 - accuracy: 0.7989 - val_loss: 0.7583 - val_accuracy: 0.7826\n",
            "Epoch 153/200\n",
            "23/23 [==============================] - 0s 4ms/step - loss: 0.6832 - accuracy: 0.8043 - val_loss: 0.7563 - val_accuracy: 0.7826\n",
            "Epoch 154/200\n",
            "23/23 [==============================] - 0s 4ms/step - loss: 0.6836 - accuracy: 0.8125 - val_loss: 0.7546 - val_accuracy: 0.7826\n",
            "Epoch 155/200\n",
            "23/23 [==============================] - 0s 4ms/step - loss: 0.6851 - accuracy: 0.8043 - val_loss: 0.7529 - val_accuracy: 0.7826\n",
            "Epoch 156/200\n",
            "23/23 [==============================] - 0s 4ms/step - loss: 0.6875 - accuracy: 0.8152 - val_loss: 0.7513 - val_accuracy: 0.7826\n",
            "Epoch 157/200\n",
            "23/23 [==============================] - 0s 5ms/step - loss: 0.6752 - accuracy: 0.7935 - val_loss: 0.7498 - val_accuracy: 0.7826\n",
            "Epoch 158/200\n",
            "23/23 [==============================] - 0s 4ms/step - loss: 0.6807 - accuracy: 0.8043 - val_loss: 0.7480 - val_accuracy: 0.7826\n",
            "Epoch 159/200\n",
            "23/23 [==============================] - 0s 4ms/step - loss: 0.6723 - accuracy: 0.8016 - val_loss: 0.7465 - val_accuracy: 0.7826\n",
            "Epoch 160/200\n",
            "23/23 [==============================] - 0s 5ms/step - loss: 0.6710 - accuracy: 0.8152 - val_loss: 0.7450 - val_accuracy: 0.7826\n",
            "Epoch 161/200\n",
            "23/23 [==============================] - 0s 4ms/step - loss: 0.6668 - accuracy: 0.8179 - val_loss: 0.7434 - val_accuracy: 0.7826\n",
            "Epoch 162/200\n",
            "23/23 [==============================] - 0s 4ms/step - loss: 0.6557 - accuracy: 0.8152 - val_loss: 0.7419 - val_accuracy: 0.7826\n",
            "Epoch 163/200\n",
            "23/23 [==============================] - 0s 4ms/step - loss: 0.6557 - accuracy: 0.8179 - val_loss: 0.7401 - val_accuracy: 0.7826\n",
            "Epoch 164/200\n",
            "23/23 [==============================] - 0s 4ms/step - loss: 0.6630 - accuracy: 0.8125 - val_loss: 0.7386 - val_accuracy: 0.7826\n",
            "Epoch 165/200\n",
            "23/23 [==============================] - 0s 4ms/step - loss: 0.6787 - accuracy: 0.8043 - val_loss: 0.7371 - val_accuracy: 0.7826\n",
            "Epoch 166/200\n",
            "23/23 [==============================] - 0s 5ms/step - loss: 0.6610 - accuracy: 0.8125 - val_loss: 0.7359 - val_accuracy: 0.7826\n",
            "Epoch 167/200\n",
            "23/23 [==============================] - 0s 4ms/step - loss: 0.6687 - accuracy: 0.8152 - val_loss: 0.7345 - val_accuracy: 0.7826\n",
            "Epoch 168/200\n",
            "23/23 [==============================] - 0s 4ms/step - loss: 0.6685 - accuracy: 0.8071 - val_loss: 0.7331 - val_accuracy: 0.7826\n",
            "Epoch 169/200\n",
            "23/23 [==============================] - 0s 4ms/step - loss: 0.6710 - accuracy: 0.8207 - val_loss: 0.7319 - val_accuracy: 0.7826\n",
            "Epoch 170/200\n",
            "23/23 [==============================] - 0s 5ms/step - loss: 0.6563 - accuracy: 0.8125 - val_loss: 0.7302 - val_accuracy: 0.7826\n",
            "Epoch 171/200\n",
            "23/23 [==============================] - 0s 5ms/step - loss: 0.6811 - accuracy: 0.8098 - val_loss: 0.7291 - val_accuracy: 0.7826\n",
            "Epoch 172/200\n",
            "23/23 [==============================] - 0s 4ms/step - loss: 0.6634 - accuracy: 0.8152 - val_loss: 0.7277 - val_accuracy: 0.7826\n",
            "Epoch 173/200\n",
            "23/23 [==============================] - 0s 4ms/step - loss: 0.6666 - accuracy: 0.8098 - val_loss: 0.7266 - val_accuracy: 0.7826\n",
            "Epoch 174/200\n",
            "23/23 [==============================] - 0s 4ms/step - loss: 0.6419 - accuracy: 0.8179 - val_loss: 0.7254 - val_accuracy: 0.7826\n",
            "Epoch 175/200\n",
            "23/23 [==============================] - 0s 4ms/step - loss: 0.6505 - accuracy: 0.8125 - val_loss: 0.7242 - val_accuracy: 0.7826\n",
            "Epoch 176/200\n",
            "23/23 [==============================] - 0s 5ms/step - loss: 0.6441 - accuracy: 0.8179 - val_loss: 0.7231 - val_accuracy: 0.7826\n",
            "Epoch 177/200\n",
            "23/23 [==============================] - 0s 4ms/step - loss: 0.6629 - accuracy: 0.8043 - val_loss: 0.7216 - val_accuracy: 0.7826\n",
            "Epoch 178/200\n",
            "23/23 [==============================] - 0s 5ms/step - loss: 0.6502 - accuracy: 0.8016 - val_loss: 0.7204 - val_accuracy: 0.7826\n",
            "Epoch 179/200\n",
            "23/23 [==============================] - 0s 5ms/step - loss: 0.6681 - accuracy: 0.8043 - val_loss: 0.7192 - val_accuracy: 0.7826\n",
            "Epoch 180/200\n",
            "23/23 [==============================] - 0s 5ms/step - loss: 0.6468 - accuracy: 0.8179 - val_loss: 0.7181 - val_accuracy: 0.7826\n",
            "Epoch 181/200\n",
            "23/23 [==============================] - 0s 5ms/step - loss: 0.6545 - accuracy: 0.8207 - val_loss: 0.7170 - val_accuracy: 0.7826\n",
            "Epoch 182/200\n",
            "23/23 [==============================] - 0s 5ms/step - loss: 0.6475 - accuracy: 0.8207 - val_loss: 0.7158 - val_accuracy: 0.7826\n",
            "Epoch 183/200\n",
            "23/23 [==============================] - 0s 4ms/step - loss: 0.6412 - accuracy: 0.8207 - val_loss: 0.7144 - val_accuracy: 0.7826\n",
            "Epoch 184/200\n",
            "23/23 [==============================] - 0s 4ms/step - loss: 0.6516 - accuracy: 0.8125 - val_loss: 0.7131 - val_accuracy: 0.7826\n",
            "Epoch 185/200\n",
            "23/23 [==============================] - 0s 5ms/step - loss: 0.6489 - accuracy: 0.8152 - val_loss: 0.7121 - val_accuracy: 0.7826\n",
            "Epoch 186/200\n",
            "23/23 [==============================] - 0s 4ms/step - loss: 0.6429 - accuracy: 0.8234 - val_loss: 0.7112 - val_accuracy: 0.7826\n",
            "Epoch 187/200\n",
            "23/23 [==============================] - 0s 5ms/step - loss: 0.6461 - accuracy: 0.8234 - val_loss: 0.7099 - val_accuracy: 0.7826\n",
            "Epoch 188/200\n",
            "23/23 [==============================] - 0s 5ms/step - loss: 0.6431 - accuracy: 0.8071 - val_loss: 0.7088 - val_accuracy: 0.7826\n",
            "Epoch 189/200\n",
            "23/23 [==============================] - 0s 4ms/step - loss: 0.6279 - accuracy: 0.8234 - val_loss: 0.7078 - val_accuracy: 0.7826\n",
            "Epoch 190/200\n",
            "23/23 [==============================] - 0s 4ms/step - loss: 0.6245 - accuracy: 0.8152 - val_loss: 0.7067 - val_accuracy: 0.7826\n",
            "Epoch 191/200\n",
            "23/23 [==============================] - 0s 4ms/step - loss: 0.6536 - accuracy: 0.8207 - val_loss: 0.7060 - val_accuracy: 0.7826\n",
            "Epoch 192/200\n",
            "23/23 [==============================] - 0s 4ms/step - loss: 0.6565 - accuracy: 0.8043 - val_loss: 0.7052 - val_accuracy: 0.7826\n",
            "Epoch 193/200\n",
            "23/23 [==============================] - 0s 4ms/step - loss: 0.6268 - accuracy: 0.8125 - val_loss: 0.7042 - val_accuracy: 0.7826\n",
            "Epoch 194/200\n",
            "23/23 [==============================] - 0s 4ms/step - loss: 0.6267 - accuracy: 0.8315 - val_loss: 0.7032 - val_accuracy: 0.7826\n",
            "Epoch 195/200\n",
            "23/23 [==============================] - 0s 5ms/step - loss: 0.6219 - accuracy: 0.8098 - val_loss: 0.7020 - val_accuracy: 0.7826\n",
            "Epoch 196/200\n",
            "23/23 [==============================] - 0s 5ms/step - loss: 0.6417 - accuracy: 0.8179 - val_loss: 0.7008 - val_accuracy: 0.7826\n",
            "Epoch 197/200\n",
            "23/23 [==============================] - 0s 4ms/step - loss: 0.6341 - accuracy: 0.8234 - val_loss: 0.7001 - val_accuracy: 0.7826\n",
            "Epoch 198/200\n",
            "23/23 [==============================] - 0s 4ms/step - loss: 0.6116 - accuracy: 0.8234 - val_loss: 0.6991 - val_accuracy: 0.7826\n",
            "Epoch 199/200\n",
            "23/23 [==============================] - 0s 4ms/step - loss: 0.6604 - accuracy: 0.8016 - val_loss: 0.6983 - val_accuracy: 0.7826\n",
            "Epoch 200/200\n",
            "23/23 [==============================] - 0s 4ms/step - loss: 0.6254 - accuracy: 0.8179 - val_loss: 0.6973 - val_accuracy: 0.7826\n",
            "evaluate\n"
          ]
        }
      ]
    },
    {
      "cell_type": "code",
      "source": [
        "# test\n",
        "model_loss,modelAccuracy = model.evaluate([np.array(x_valid['meta'].tolist()),np.array(x_valid['image'].tolist())],y_valid)\n",
        "# model_loss,modelAccuracy = model.evaluate([predicted_img_labels_valid,predicted_meta_labels_valid],target_valid)\n",
        "# 0.8391304612159729\n",
        "# 0.865217387676239\n",
        "# 0.8695651888847351\n",
        "print(\"model accuracy \"+str(modelAccuracy))"
      ],
      "metadata": {
        "colab": {
          "base_uri": "https://localhost:8080/"
        },
        "id": "HjSR5WHbO0nJ",
        "outputId": "3336bfea-a49a-4bd1-c166-b42216bf1e49"
      },
      "execution_count": null,
      "outputs": [
        {
          "output_type": "stream",
          "name": "stdout",
          "text": [
            "2/2 [==============================] - 0s 6ms/step - loss: 0.3990 - accuracy: 0.9130\n",
            "model accuracy 0.9130434989929199\n"
          ]
        }
      ]
    },
    {
      "cell_type": "code",
      "source": [
        "# 128 => 91.3\n",
        "# 380 => 91.3"
      ],
      "metadata": {
        "id": "SRrNss6x0I2r"
      },
      "execution_count": null,
      "outputs": []
    },
    {
      "cell_type": "code",
      "source": [],
      "metadata": {
        "id": "cN5mWb5t9F6g"
      },
      "execution_count": null,
      "outputs": []
    }
  ]
}